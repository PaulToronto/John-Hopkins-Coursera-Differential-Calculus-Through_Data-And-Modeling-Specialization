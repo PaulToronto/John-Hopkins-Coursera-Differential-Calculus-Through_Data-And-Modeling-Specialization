{
  "nbformat": 4,
  "nbformat_minor": 0,
  "metadata": {
    "colab": {
      "provenance": [],
      "collapsed_sections": [],
      "authorship_tag": "ABX9TyNQM6KB04VC/QHlxuR8jvE4",
      "include_colab_link": true
    },
    "kernelspec": {
      "name": "python3",
      "display_name": "Python 3"
    },
    "language_info": {
      "name": "python"
    }
  },
  "cells": [
    {
      "cell_type": "markdown",
      "metadata": {
        "id": "view-in-github",
        "colab_type": "text"
      },
      "source": [
        "<a href=\"https://colab.research.google.com/github/PaulToronto/John-Hopkins-Coursera-Differential-Calculus-Through_Data-And-Modeling-Specialization/blob/main/1_1_1_Exponential_and_Logarithmic_Functions.ipynb\" target=\"_parent\"><img src=\"https://colab.research.google.com/assets/colab-badge.svg\" alt=\"Open In Colab\"/></a>"
      ]
    },
    {
      "cell_type": "markdown",
      "source": [
        "# 1.1.1 Exponential and Logarithmic Functions\n",
        "\n",
        "- In applied settings, exponential functions model a relationship in which a constant change in the independent variable gives the same proportional change (i.e., percentage increase or decrease) in the dependent variable."
      ],
      "metadata": {
        "id": "RGe_rxhpxTAD"
      }
    },
    {
      "cell_type": "markdown",
      "source": [
        "## 1.1.1.1 Exponential Functions"
      ],
      "metadata": {
        "id": "WaqGYu7TyLLj"
      }
    },
    {
      "cell_type": "code",
      "execution_count": null,
      "metadata": {
        "id": "6kdjK42Tw6SD"
      },
      "outputs": [],
      "source": []
    }
  ]
}
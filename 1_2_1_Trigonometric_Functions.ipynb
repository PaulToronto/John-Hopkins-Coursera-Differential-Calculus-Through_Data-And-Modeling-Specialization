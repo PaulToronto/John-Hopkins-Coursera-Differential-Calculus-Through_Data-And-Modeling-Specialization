{
  "nbformat": 4,
  "nbformat_minor": 0,
  "metadata": {
    "colab": {
      "provenance": [],
      "collapsed_sections": [],
      "toc_visible": true,
      "authorship_tag": "ABX9TyMrKCXPu8kV7d+9esGWse35",
      "include_colab_link": true
    },
    "kernelspec": {
      "name": "python3",
      "display_name": "Python 3"
    },
    "language_info": {
      "name": "python"
    }
  },
  "cells": [
    {
      "cell_type": "markdown",
      "metadata": {
        "id": "view-in-github",
        "colab_type": "text"
      },
      "source": [
        "<a href=\"https://colab.research.google.com/github/PaulToronto/Johns-Hopkins-Coursera-Differential-Calculus-Through-Data-And-Modeling-Specialization/blob/main/1_2_1_Trigonometric_Functions.ipynb\" target=\"_parent\"><img src=\"https://colab.research.google.com/assets/colab-badge.svg\" alt=\"Open In Colab\"/></a>"
      ]
    },
    {
      "cell_type": "markdown",
      "source": [
        "# 1.2.1 Trigonometric Functions\n",
        "\n",
        "Equally important are the trigonometric functions, some of the most well-known examples of periodic or cyclic functions. Common phenomena have an oscillatory, or periodic, behavior. This is observed through ocean waves, sound waves, or even the regular beating of your heart. All these phenomena can be modeled using equations based on the familiar sine and cosine functions. In this module, we will see how to apply and construct functions that permit us to model cyclic behavior.\n"
      ],
      "metadata": {
        "id": "E30JaZ7dIxUk"
      }
    },
    {
      "cell_type": "code",
      "source": [
        "import sympy as sym\n",
        "import numpy as np\n",
        "import matplotlib.pyplot as plt"
      ],
      "metadata": {
        "id": "vpc5G1xtloT0"
      },
      "execution_count": 1,
      "outputs": []
    },
    {
      "cell_type": "markdown",
      "source": [
        "## 1.2.1.1 Sine and Cosine"
      ],
      "metadata": {
        "id": "ry2kgPFRI24a"
      }
    },
    {
      "cell_type": "markdown",
      "source": [
        "### Unit Circle"
      ],
      "metadata": {
        "id": "qqtsmRmxJw_U"
      }
    },
    {
      "cell_type": "code",
      "source": [
        "angles = np.linspace(0, 2 * float(np.pi), 50)\n",
        "x = np.cos(angles)\n",
        "y = np.sin(angles)\n",
        "\n",
        "fig, ax  = plt.subplots()\n",
        "\n",
        "fig.set_size_inches(8, 10)\n",
        "ax.set_aspect(1)\n",
        "ax.axvline(0, color='lightgray')\n",
        "ax.axhline(0, color='lightgray')\n",
        "\n",
        "# Unit Circle\n",
        "ax.plot(x, y, color='dodgerblue', label='Unit Circle')\n",
        "\n",
        "# Cosine and Sine\n",
        "ax.plot(angles, x, color='purple', label='$\\cos{x}$')\n",
        "ax.plot(angles, y, color='green', label='$\\sin{x}$')\n",
        "\n",
        "ax.plot(np.cos(np.pi/4), np.sin(np.pi/4), \n",
        "        color='red', marker='o', markersize=10, \n",
        "        label='$(\\cos{(\\pi/4)}, \\sin{(\\pi/4)})$')\n",
        "ax.plot(np.pi/4, np.cos(np.pi/4), label='$(\\pi/4, \\cos{(\\pi/4)})$',\n",
        "        markeredgecolor='black',\n",
        "        color='navy', marker='o', markersize=10)\n",
        "ax.plot(np.pi/4, np.sin(np.pi/4), label='$(\\pi/4, \\sin{(\\pi/4)})$',\n",
        "        markeredgecolor='black', alpha=0.5,\n",
        "        color='white', marker='o', markersize=10)\n",
        "\n",
        "ax.plot(np.cos(3*np.pi/4), np.sin(3*np.pi/4), \n",
        "        color='lime', marker='o', markersize=10, \n",
        "        label='$(\\cos{(3\\pi/4)}, \\sin{(3\\pi/4)})$')\n",
        "ax.plot(3*np.pi/4, np.cos(3*np.pi/4), label='$(3\\pi/4, \\cos{(3\\pi/4)})$',\n",
        "        markeredgecolor='black',\n",
        "        color='navy', marker='o', markersize=10)\n",
        "ax.plot(3*np.pi/4, np.sin(3*np.pi/4), label='$(3\\pi/4, \\sin{(3\\pi/4)})$',\n",
        "        markeredgecolor='black', alpha=0.5,\n",
        "        color='white', marker='o', markersize=10)\n",
        "\n",
        "\n",
        "ax.plot(np.cos(5*np.pi/4), np.sin(5*np.pi/4), \n",
        "        color='magenta', marker='o', markersize=10, \n",
        "        label='$(\\cos{(5\\pi/4)}, \\sin{(5\\pi/4)})$')\n",
        "ax.plot(5*np.pi/4, np.cos(5*np.pi/4), label='$(5\\pi/4, \\cos{(5\\pi/4)})$',\n",
        "        markeredgecolor='black',\n",
        "        color='navy', marker='o', markersize=10)\n",
        "ax.plot(5*np.pi/4, np.sin(5*np.pi/4), label='$(5\\pi/4, \\sin{(5\\pi/4)})$',\n",
        "        markeredgecolor='black', alpha=0.5,\n",
        "        color='white', marker='o', markersize=10)\n",
        "\n",
        "\n",
        "ax.plot(np.cos(7*np.pi/4), np.sin(7*np.pi/4), \n",
        "        color='orange', marker='o', markersize=10, \n",
        "        label='$(\\cos{(7\\pi/4)}, \\sin{(7\\pi/4)})$')\n",
        "ax.plot(7*np.pi/4, np.cos(7*np.pi/4), label='$(7\\pi/4, \\cos{(7\\pi/4)})$',\n",
        "        markeredgecolor='black',\n",
        "        color='navy', marker='o', markersize=10)\n",
        "ax.plot(7*np.pi/4, np.sin(7*np.pi/4), label='$(7\\pi/4, \\sin{(7\\pi/4)})$',\n",
        "        markeredgecolor='black', alpha=0.5,\n",
        "        color='white', marker='o', markersize=10)\n",
        "\n",
        "points = np.array([i * sym.pi/4 for i in range(0, 9)])\n",
        "labels = [0, '$\\pi/4$', '$\\pi/2$', '$3\\pi/4$', '$\\pi$',\n",
        "          '$5\\pi/4$', '$3\\pi/2$', '$7\\pi/4$', '$2\\pi$']\n",
        "ax.set_xticks(points)\n",
        "ax.set_xticklabels(labels)\n",
        "ax.grid()\n",
        "\n",
        "fig.legend()\n",
        "fig.show()"
      ],
      "metadata": {
        "colab": {
          "base_uri": "https://localhost:8080/",
          "height": 465
        },
        "id": "ogsCVslwlj6q",
        "outputId": "753e5090-322b-4b9d-9629-ecd7e5c43c74"
      },
      "execution_count": 2,
      "outputs": [
        {
          "output_type": "display_data",
          "data": {
            "text/plain": [
              "<Figure size 576x720 with 1 Axes>"
            ],
            "image/png": "[encoded data removed]"
          },
          "metadata": {
            "needs_background": "light"
          }
        }
      ]
    },
    {
      "cell_type": "markdown",
      "source": [
        "If the circle is not a unit circle with radius, $r$, then points on the circle are $\\left(x, y\\right) = \\left(r\\cos{\\theta}, r\\sin{\\theta}\\right)$"
      ],
      "metadata": {
        "id": "ySezNq51tXoY"
      }
    },
    {
      "cell_type": "markdown",
      "source": [
        "### Important Trigonometric Identity"
      ],
      "metadata": {
        "id": "3GS988LpsvXS"
      }
    },
    {
      "cell_type": "markdown",
      "source": [
        "$$\n",
        "\\begin{align}\n",
        "\\left(r\\cos{\\theta}\\right)^{2} + \\left(r\\sin{\\theta}\\right)^{2} &= r^{2} \\\\\n",
        "r^{2}\\cos^{2}{\\theta} + r^2\\sin^{2}{\\theta} &= r^{2} \\\\\n",
        "\\cos^{2}{\\theta} + \\sin^{2}{\\theta} &= 1\n",
        "\\end{align}\n",
        "$$"
      ],
      "metadata": {
        "id": "7cfozW7ftEIH"
      }
    },
    {
      "cell_type": "markdown",
      "source": [
        "### Example\n",
        "\n",
        "Find $\\cos{\\theta}$ if $\\sin{\\theta} = \\frac{3}{5}$ and $\\theta$ is in Quadrant II. "
      ],
      "metadata": {
        "id": "pUBlpIxgvyF1"
      }
    },
    {
      "cell_type": "markdown",
      "source": [
        "$\n",
        "\\begin{align}\n",
        "\\cos^{2}{\\theta} + \\sin^{2}{\\theta} &= 1 \\\\\n",
        "\\cos^{2}{\\theta} + \\left(\\frac{3}{5}\\right)^{2} &= 1 \\\\\n",
        "\\cos^{2}{\\theta} + \\frac{9}{25} &= 1 \\\\\n",
        "\\cos^{2}{\\theta} &= \\frac{16}{25} \\\\\n",
        "\\cos{\\theta} &= \\pm\\frac{4}{5}\n",
        "\\end{align}\n",
        "$\n",
        "\n",
        "Cosine is negative in Quadrant II.\n",
        "\n",
        "$\n",
        "\\therefore \\cos{\\theta} = -\\frac{4}{5}\n",
        "$"
      ],
      "metadata": {
        "id": "w3zlcLl0xZIh"
      }
    },
    {
      "cell_type": "markdown",
      "source": [
        "### $f(x) = \\sin{x}$"
      ],
      "metadata": {
        "id": "eZKhG72g8FW8"
      }
    },
    {
      "cell_type": "code",
      "source": [
        "x = np.linspace(0, 2 * np.pi, 100)\n",
        "y = np.sin(x)\n",
        "\n",
        "plt.axvline(0, color='dodgerblue')\n",
        "plt.axhline(0, color='dodgerblue')\n",
        "\n",
        "points = np.array([i * sym.pi/4 for i in range(0, 9)])\n",
        "labels = [0, '$\\pi/4$', '$\\pi/2$', '$3\\pi/4$', '$\\pi$',\n",
        "          '$5\\pi/4$', '$3\\pi/2$', '$7\\pi/4$', '$2\\pi$']\n",
        "plt.xticks(points, labels)\n",
        "plt.plot(x, y, color='red')\n",
        "plt.title('$f(x) = \\sin{(x)}$')\n",
        "plt.grid()\n",
        "\n",
        "plt.show()"
      ],
      "metadata": {
        "colab": {
          "base_uri": "https://localhost:8080/",
          "height": 286
        },
        "id": "4KXXvtX88LaZ",
        "outputId": "d21c9ab7-2c8b-45f6-ddb3-5153a089a6de"
      },
      "execution_count": 3,
      "outputs": [
        {
          "output_type": "display_data",
          "data": {
            "text/plain": [
              "<Figure size 432x288 with 1 Axes>"
            ],
            "image/png": "[encoded data removed]"
          },
          "metadata": {
            "needs_background": "light"
          }
        }
      ]
    },
    {
      "cell_type": "code",
      "source": [
        "from math import isnan\n",
        "\n",
        "x = sym.symbols('x')\n",
        "\n",
        "f = sym.sin(x)\n",
        "\n",
        "the_domain = sym.calculus.util.continuous_domain(f, x, sym.S.Reals)\n",
        "\n",
        "try:\n",
        "    the_range = sym.calculus.util.function_range(f, x, sym.S.Reals)\n",
        "except NotImplementedError:\n",
        "    the_range = 'Not found'\n",
        "\n",
        "x_intercepts = list()\n",
        "for soln in sym.solve(f):\n",
        "    if soln.is_real:\n",
        "        x_intercepts.append(soln)\n",
        "x_intercepts = None if len(x_intercepts) == 0 else x_intercepts\n",
        "\n",
        "\n",
        "y_intercept = None if isnan(f.subs(x, 0)) else f.subs(x, 0)"
      ],
      "metadata": {
        "id": "XWtK99-P9_Sn"
      },
      "execution_count": 4,
      "outputs": []
    },
    {
      "cell_type": "code",
      "source": [
        "the_domain"
      ],
      "metadata": {
        "colab": {
          "base_uri": "https://localhost:8080/",
          "height": 38
        },
        "id": "WqOEpmQb_ARn",
        "outputId": "1dce98d0-8aa7-4282-d37b-98f4c1044dbe"
      },
      "execution_count": 5,
      "outputs": [
        {
          "output_type": "execute_result",
          "data": {
            "text/plain": [
              "Reals"
            ],
            "text/latex": "$\\displaystyle \\mathbb{R}$"
          },
          "metadata": {},
          "execution_count": 5
        }
      ]
    },
    {
      "cell_type": "code",
      "source": [
        "the_range"
      ],
      "metadata": {
        "colab": {
          "base_uri": "https://localhost:8080/",
          "height": 37
        },
        "id": "2ikOOEUQ_Cwr",
        "outputId": "2dbdb2d9-0b4c-497a-e0ae-71260f55bffe"
      },
      "execution_count": 6,
      "outputs": [
        {
          "output_type": "execute_result",
          "data": {
            "text/plain": [
              "Interval(-1, 1)"
            ],
            "text/latex": "$\\displaystyle \\left[-1, 1\\right]$"
          },
          "metadata": {},
          "execution_count": 6
        }
      ]
    },
    {
      "cell_type": "code",
      "source": [
        "x_intercepts"
      ],
      "metadata": {
        "colab": {
          "base_uri": "https://localhost:8080/"
        },
        "id": "YM_KiZGx_Erj",
        "outputId": "b82b1655-e1f2-4736-acd7-8c89b3512013"
      },
      "execution_count": 7,
      "outputs": [
        {
          "output_type": "execute_result",
          "data": {
            "text/plain": [
              "[0, pi]"
            ]
          },
          "metadata": {},
          "execution_count": 7
        }
      ]
    },
    {
      "cell_type": "markdown",
      "source": [
        "The x-intercepts can be written as:\n",
        "\n",
        "$x = \\pi n$, where $n \\in \\mathbb{Z}$"
      ],
      "metadata": {
        "id": "IishJdeW_gw8"
      }
    },
    {
      "cell_type": "code",
      "source": [
        "y_intercept"
      ],
      "metadata": {
        "colab": {
          "base_uri": "https://localhost:8080/",
          "height": 37
        },
        "id": "glI6-dk0_H6l",
        "outputId": "d83c07e2-ef14-479c-a96f-0b9a9843b42e"
      },
      "execution_count": 8,
      "outputs": [
        {
          "output_type": "execute_result",
          "data": {
            "text/plain": [
              "0"
            ],
            "text/latex": "$\\displaystyle 0$"
          },
          "metadata": {},
          "execution_count": 8
        }
      ]
    },
    {
      "cell_type": "markdown",
      "source": [
        "What is the end behaviour of $f(x) = \\sin{x}$? \n",
        "\n",
        "$\\lim_{x \\to \\infty} \\sin{x}$ does not exist.\n",
        "\n",
        "$\\lim_{x \\to -\\infty} \\sin{x}$ does not exist.\n",
        "\n",
        "The function **oscillates** between $-1$ and $1$. \n"
      ],
      "metadata": {
        "id": "Z9QxS-oWBCs0"
      }
    },
    {
      "cell_type": "markdown",
      "source": [
        "### $f(x) = \\cos{x}$"
      ],
      "metadata": {
        "id": "7C2AFNasB8Xh"
      }
    },
    {
      "cell_type": "code",
      "source": [
        "x = np.linspace(0, 2 * np.pi, 100)\n",
        "y = np.cos(x)\n",
        "\n",
        "plt.axvline(0, color='dodgerblue')\n",
        "plt.axhline(0, color='dodgerblue')\n",
        "\n",
        "points = np.array([i * sym.pi/4 for i in range(0, 9)])\n",
        "labels = [0, '$\\pi/4$', '$\\pi/2$', '$3\\pi/4$', '$\\pi$',\n",
        "          '$5\\pi/4$', '$3\\pi/2$', '$7\\pi/4$', '$2\\pi$']\n",
        "plt.xticks(points, labels)\n",
        "plt.plot(x, y, color='red')\n",
        "plt.title('$f(x) = \\cos{(x)}$')\n",
        "plt.grid()\n",
        "\n",
        "plt.show()"
      ],
      "metadata": {
        "colab": {
          "base_uri": "https://localhost:8080/",
          "height": 286
        },
        "id": "3nmLh3eIB7KO",
        "outputId": "65d4329b-7b75-460c-c900-dec558a74c2b"
      },
      "execution_count": 9,
      "outputs": [
        {
          "output_type": "display_data",
          "data": {
            "text/plain": [
              "<Figure size 432x288 with 1 Axes>"
            ],
            "image/png": "[encoded data removed]"
          },
          "metadata": {
            "needs_background": "light"
          }
        }
      ]
    },
    {
      "cell_type": "code",
      "source": [
        "x = sym.symbols('x')\n",
        "\n",
        "f = sym.cos(x)\n",
        "\n",
        "the_domain = sym.calculus.util.continuous_domain(f, x, sym.S.Reals)\n",
        "\n",
        "try:\n",
        "    the_range = sym.calculus.util.function_range(f, x, sym.S.Reals)\n",
        "except NotImplementedError:\n",
        "    the_range = 'Not found'\n",
        "\n",
        "x_intercepts = list()\n",
        "for soln in sym.solve(f):\n",
        "    if soln.is_real:\n",
        "        x_intercepts.append(soln)\n",
        "x_intercepts = None if len(x_intercepts) == 0 else x_intercepts\n",
        "\n",
        "\n",
        "y_intercept = None if isnan(f.subs(x, 0)) else f.subs(x, 0)"
      ],
      "metadata": {
        "id": "shBUcnMlCMk5"
      },
      "execution_count": 10,
      "outputs": []
    },
    {
      "cell_type": "code",
      "source": [
        "the_domain"
      ],
      "metadata": {
        "colab": {
          "base_uri": "https://localhost:8080/",
          "height": 38
        },
        "id": "Mc4XsG-6COHG",
        "outputId": "47066440-a802-433c-8ca1-84e69fba79d1"
      },
      "execution_count": 11,
      "outputs": [
        {
          "output_type": "execute_result",
          "data": {
            "text/plain": [
              "Reals"
            ],
            "text/latex": "$\\displaystyle \\mathbb{R}$"
          },
          "metadata": {},
          "execution_count": 11
        }
      ]
    },
    {
      "cell_type": "code",
      "source": [
        "the_range"
      ],
      "metadata": {
        "colab": {
          "base_uri": "https://localhost:8080/",
          "height": 37
        },
        "id": "F2XhDInJCU6p",
        "outputId": "47d09745-0f47-4ccf-ea0c-016e1ecb6b16"
      },
      "execution_count": 12,
      "outputs": [
        {
          "output_type": "execute_result",
          "data": {
            "text/plain": [
              "Interval(-1, 1)"
            ],
            "text/latex": "$\\displaystyle \\left[-1, 1\\right]$"
          },
          "metadata": {},
          "execution_count": 12
        }
      ]
    },
    {
      "cell_type": "code",
      "source": [
        "x_intercepts"
      ],
      "metadata": {
        "colab": {
          "base_uri": "https://localhost:8080/"
        },
        "id": "fK0j2sKtCZTy",
        "outputId": "b1b81658-fb7f-4d23-9f14-e8283f59afe6"
      },
      "execution_count": 13,
      "outputs": [
        {
          "output_type": "execute_result",
          "data": {
            "text/plain": [
              "[pi/2, 3*pi/2]"
            ]
          },
          "metadata": {},
          "execution_count": 13
        }
      ]
    },
    {
      "cell_type": "markdown",
      "source": [
        "The x-intercepts can be written as:\n",
        "\n",
        "$x = \\pi n - \\frac{\\pi}{2}$, where $n \\in \\mathbb{Z}$"
      ],
      "metadata": {
        "id": "_9s2vaSDD7xa"
      }
    },
    {
      "cell_type": "code",
      "source": [
        "y_intercept"
      ],
      "metadata": {
        "colab": {
          "base_uri": "https://localhost:8080/",
          "height": 37
        },
        "id": "hkkTigJDCqdo",
        "outputId": "e1983e14-a22f-4241-e9d7-3ada6e147912"
      },
      "execution_count": 14,
      "outputs": [
        {
          "output_type": "execute_result",
          "data": {
            "text/plain": [
              "1"
            ],
            "text/latex": "$\\displaystyle 1$"
          },
          "metadata": {},
          "execution_count": 14
        }
      ]
    },
    {
      "cell_type": "markdown",
      "source": [
        "What is the end behaviour of $f(x) = \\cos{x}$? \n",
        "\n",
        "$\\lim_{x \\to \\infty} \\cos{x}$ does not exist.\n",
        "\n",
        "$\\lim_{x \\to -\\infty} \\cos{x}$ does not exist.\n",
        "\n",
        "The function **oscillates** between $-1$ and $1$. "
      ],
      "metadata": {
        "id": "utVyRkPyCz8g"
      }
    },
    {
      "cell_type": "markdown",
      "source": [
        "### Bounded Functions\n",
        "\n",
        "A function that has both an **upper bound** and a **lower bound** is called a **bounded function**\n",
        "\n",
        "$\\sin{x}$ and $\\cos{x}$ are both bounded functions. \n",
        "\n",
        "$-1 \\le \\sin{x} \\le 1$\n",
        "\n",
        "$-1 \\le \\cos{x} \\le 1$\n"
      ],
      "metadata": {
        "id": "8uncdu7cGW0i"
      }
    },
    {
      "cell_type": "markdown",
      "source": [
        "### Symmetry\n",
        "\n",
        "The cosine function has y-axis symmetry. It is an **even** function. Imagine folding it at the y-axis.\n",
        "\n",
        "$\\cos{\\left(x\\right)} = \\cos{\\left(-x\\right)}$\n",
        "\n",
        "The sine function has origin symmetry. It is an **odd** function. Imagine rotating it 180 degrees. \n",
        "\n",
        "$\\sin{\\left(-x\\right)} = -\\sin{\\left(x\\right)}$\n"
      ],
      "metadata": {
        "id": "8B49fzqhH-5z"
      }
    },
    {
      "cell_type": "markdown",
      "source": [
        "## 1.2.1.2 Tangent, Cotangent, Secant, Cosecant"
      ],
      "metadata": {
        "id": "ab7frjhTLkz9"
      }
    }
  ]
}
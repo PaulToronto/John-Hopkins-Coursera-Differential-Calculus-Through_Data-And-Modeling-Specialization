{
  "nbformat": 4,
  "nbformat_minor": 0,
  "metadata": {
    "colab": {
      "provenance": [],
      "collapsed_sections": [],
      "toc_visible": true,
      "authorship_tag": "ABX9TyPT0Z/xEoqIdy4TA0R6w2Km",
      "include_colab_link": true
    },
    "kernelspec": {
      "name": "python3",
      "display_name": "Python 3"
    },
    "language_info": {
      "name": "python"
    }
  },
  "cells": [
    {
      "cell_type": "markdown",
      "metadata": {
        "id": "view-in-github",
        "colab_type": "text"
      },
      "source": [
        "<a href=\"https://colab.research.google.com/github/PaulToronto/Johns-Hopkins-Coursera-Differential-Calculus-Through-Data-And-Modeling-Specialization/blob/main/1_2_1_Trigonometric_Functions.ipynb\" target=\"_parent\"><img src=\"https://colab.research.google.com/assets/colab-badge.svg\" alt=\"Open In Colab\"/></a>"
      ]
    },
    {
      "cell_type": "markdown",
      "source": [
        "# 1.2.1 Trigonometric Functions\n",
        "\n",
        "Equally important are the trigonometric functions, some of the most well-known examples of periodic or cyclic functions. Common phenomena have an oscillatory, or periodic, behavior. This is observed through ocean waves, sound waves, or even the regular beating of your heart. All these phenomena can be modeled using equations based on the familiar sine and cosine functions. In this module, we will see how to apply and construct functions that permit us to model cyclic behavior.\n"
      ],
      "metadata": {
        "id": "E30JaZ7dIxUk"
      }
    },
    {
      "cell_type": "markdown",
      "source": [
        "## 1.2.1.1 Sine and Cosine"
      ],
      "metadata": {
        "id": "ry2kgPFRI24a"
      }
    },
    {
      "cell_type": "markdown",
      "source": [
        "### Unit Circle"
      ],
      "metadata": {
        "id": "qqtsmRmxJw_U"
      }
    }
  ]
}
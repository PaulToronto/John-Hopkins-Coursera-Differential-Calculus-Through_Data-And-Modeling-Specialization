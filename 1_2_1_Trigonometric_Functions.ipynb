{
  "nbformat": 4,
  "nbformat_minor": 0,
  "metadata": {
    "colab": {
      "provenance": [],
      "collapsed_sections": [],
      "toc_visible": true,
      "authorship_tag": "ABX9TyMgTIk+nVYaqIcaetAuWO6D",
      "include_colab_link": true
    },
    "kernelspec": {
      "name": "python3",
      "display_name": "Python 3"
    },
    "language_info": {
      "name": "python"
    }
  },
  "cells": [
    {
      "cell_type": "markdown",
      "metadata": {
        "id": "view-in-github",
        "colab_type": "text"
      },
      "source": [
        "<a href=\"https://colab.research.google.com/github/PaulToronto/Johns-Hopkins-Coursera-Differential-Calculus-Through-Data-And-Modeling-Specialization/blob/main/1_2_1_Trigonometric_Functions.ipynb\" target=\"_parent\"><img src=\"https://colab.research.google.com/assets/colab-badge.svg\" alt=\"Open In Colab\"/></a>"
      ]
    },
    {
      "cell_type": "markdown",
      "source": [
        "# 1.2.1 Trigonometric Functions\n",
        "\n",
        "Equally important are the trigonometric functions, some of the most well-known examples of periodic or cyclic functions. Common phenomena have an oscillatory, or periodic, behavior. This is observed through ocean waves, sound waves, or even the regular beating of your heart. All these phenomena can be modeled using equations based on the familiar sine and cosine functions. In this module, we will see how to apply and construct functions that permit us to model cyclic behavior.\n"
      ],
      "metadata": {
        "id": "E30JaZ7dIxUk"
      }
    },
    {
      "cell_type": "code",
      "source": [
        "import sympy as sym\n",
        "import numpy as np\n",
        "import matplotlib.pyplot as plt"
      ],
      "metadata": {
        "id": "vpc5G1xtloT0"
      },
      "execution_count": 1,
      "outputs": []
    },
    {
      "cell_type": "markdown",
      "source": [
        "## 1.2.1.1 Sine and Cosine"
      ],
      "metadata": {
        "id": "ry2kgPFRI24a"
      }
    },
    {
      "cell_type": "markdown",
      "source": [
        "### Unit Circle"
      ],
      "metadata": {
        "id": "qqtsmRmxJw_U"
      }
    },
    {
      "cell_type": "code",
      "source": [
        "angles = np.linspace(0, 2 * float(np.pi), 50)\n",
        "x = np.cos(angles)\n",
        "y = np.sin(angles)\n",
        "\n",
        "fig, ax  = plt.subplots()\n",
        "ax.set_aspect(1)\n",
        "ax.axvline(0, color='lightgray')\n",
        "ax.axhline(0, color='lightgray')\n",
        "ax.plot(x, y, color='dodgerblue')\n",
        "ax.plot(np.cos(np.pi/4), np.sin(np.pi/4), \n",
        "        color='red', marker='o', markersize=10)\n",
        "ax.plot(np.cos(3*np.pi/4), np.sin(3*np.pi/4), \n",
        "        color='lime', marker='o', markersize=10)\n",
        "ax.plot(np.cos(5*np.pi/4), np.sin(5*np.pi/4), \n",
        "        color='magenta', marker='o', markersize=10)\n",
        "ax.plot(np.cos(7*np.pi/4), np.sin(7*np.pi/4), \n",
        "        color='orange', marker='o', markersize=10)\n",
        "\n",
        "fig.show()"
      ],
      "metadata": {
        "colab": {
          "base_uri": "https://localhost:8080/",
          "height": 265
        },
        "id": "ogsCVslwlj6q",
        "outputId": "c7b043fb-41aa-4b82-e074-2e93e900b159"
      },
      "execution_count": 6,
      "outputs": [
        {
          "output_type": "display_data",
          "data": {
            "text/plain": [
              "<Figure size 432x288 with 1 Axes>"
            ],
            "image/png": "[encoded data removed]"
          },
          "metadata": {
            "needs_background": "light"
          }
        }
      ]
    }
  ]
}
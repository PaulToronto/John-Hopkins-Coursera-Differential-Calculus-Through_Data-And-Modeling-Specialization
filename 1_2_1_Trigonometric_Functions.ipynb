{
  "nbformat": 4,
  "nbformat_minor": 0,
  "metadata": {
    "colab": {
      "provenance": [],
      "toc_visible": true,
      "authorship_tag": "ABX9TyNTCdszpAsmu/St+WkS/CeM",
      "include_colab_link": true
    },
    "kernelspec": {
      "name": "python3",
      "display_name": "Python 3"
    },
    "language_info": {
      "name": "python"
    }
  },
  "cells": [
    {
      "cell_type": "markdown",
      "metadata": {
        "id": "view-in-github",
        "colab_type": "text"
      },
      "source": [
        "<a href=\"https://colab.research.google.com/github/PaulToronto/Johns-Hopkins-Coursera-Differential-Calculus-Through-Data-And-Modeling-Specialization/blob/main/1_2_1_Trigonometric_Functions.ipynb\" target=\"_parent\"><img src=\"https://colab.research.google.com/assets/colab-badge.svg\" alt=\"Open In Colab\"/></a>"
      ]
    },
    {
      "cell_type": "markdown",
      "source": [
        "# 1.2.1 Trigonometric Functions\n",
        "\n",
        "Equally important are the trigonometric functions, some of the most well-known examples of periodic or cyclic functions. Common phenomena have an oscillatory, or periodic, behavior. This is observed through ocean waves, sound waves, or even the regular beating of your heart. All these phenomena can be modeled using equations based on the familiar sine and cosine functions. In this module, we will see how to apply and construct functions that permit us to model cyclic behavior.\n"
      ],
      "metadata": {
        "id": "E30JaZ7dIxUk"
      }
    },
    {
      "cell_type": "code",
      "source": [
        "import sympy as sym\n",
        "import numpy as np\n",
        "import matplotlib.pyplot as plt\n",
        "from IPython.display import display, Markdown"
      ],
      "metadata": {
        "id": "vpc5G1xtloT0"
      },
      "execution_count": 1,
      "outputs": []
    },
    {
      "cell_type": "markdown",
      "source": [
        "## 1.2.1.1 Sine and Cosine"
      ],
      "metadata": {
        "id": "ry2kgPFRI24a"
      }
    },
    {
      "cell_type": "markdown",
      "source": [
        "### Unit Circle"
      ],
      "metadata": {
        "id": "qqtsmRmxJw_U"
      }
    },
    {
      "cell_type": "code",
      "source": [
        "angles = np.linspace(0, 2 * float(np.pi), 50)\n",
        "x = np.cos(angles)\n",
        "y = np.sin(angles)\n",
        "\n",
        "fig, ax  = plt.subplots()\n",
        "\n",
        "fig.set_size_inches(8, 10)\n",
        "ax.set_aspect(1)\n",
        "ax.axvline(0, color='lightgray')\n",
        "ax.axhline(0, color='lightgray')\n",
        "\n",
        "# Unit Circle\n",
        "ax.plot(x, y, color='dodgerblue', label='Unit Circle')\n",
        "\n",
        "# Cosine and Sine\n",
        "ax.plot(angles, x, color='purple', label='$\\cos{x}$')\n",
        "ax.plot(angles, y, color='green', label='$\\sin{x}$')\n",
        "\n",
        "ax.plot(np.cos(np.pi/4), np.sin(np.pi/4), \n",
        "        color='red', marker='o', markersize=10, \n",
        "        label='$(\\cos{(\\pi/4)}, \\sin{(\\pi/4)})$')\n",
        "ax.plot(np.pi/4, np.cos(np.pi/4), label='$(\\pi/4, \\cos{(\\pi/4)})$',\n",
        "        markeredgecolor='black',\n",
        "        color='navy', marker='o', markersize=10)\n",
        "ax.plot(np.pi/4, np.sin(np.pi/4), label='$(\\pi/4, \\sin{(\\pi/4)})$',\n",
        "        markeredgecolor='black', alpha=0.5,\n",
        "        color='white', marker='o', markersize=10)\n",
        "\n",
        "ax.plot(np.cos(3*np.pi/4), np.sin(3*np.pi/4), \n",
        "        color='lime', marker='o', markersize=10, \n",
        "        label='$(\\cos{(3\\pi/4)}, \\sin{(3\\pi/4)})$')\n",
        "ax.plot(3*np.pi/4, np.cos(3*np.pi/4), label='$(3\\pi/4, \\cos{(3\\pi/4)})$',\n",
        "        markeredgecolor='black',\n",
        "        color='navy', marker='o', markersize=10)\n",
        "ax.plot(3*np.pi/4, np.sin(3*np.pi/4), label='$(3\\pi/4, \\sin{(3\\pi/4)})$',\n",
        "        markeredgecolor='black', alpha=0.5,\n",
        "        color='white', marker='o', markersize=10)\n",
        "\n",
        "ax.plot(np.cos(5*np.pi/4), np.sin(5*np.pi/4), \n",
        "        color='magenta', marker='o', markersize=10, \n",
        "        label='$(\\cos{(5\\pi/4)}, \\sin{(5\\pi/4)})$')\n",
        "ax.plot(5*np.pi/4, np.cos(5*np.pi/4), label='$(5\\pi/4, \\cos{(5\\pi/4)})$',\n",
        "        markeredgecolor='black',\n",
        "        color='navy', marker='o', markersize=10)\n",
        "ax.plot(5*np.pi/4, np.sin(5*np.pi/4), label='$(5\\pi/4, \\sin{(5\\pi/4)})$',\n",
        "        markeredgecolor='black', alpha=0.5,\n",
        "        color='white', marker='o', markersize=10)\n",
        "\n",
        "ax.plot(np.cos(7*np.pi/4), np.sin(7*np.pi/4), \n",
        "        color='orange', marker='o', markersize=10, \n",
        "        label='$(\\cos{(7\\pi/4)}, \\sin{(7\\pi/4)})$')\n",
        "ax.plot(7*np.pi/4, np.cos(7*np.pi/4), label='$(7\\pi/4, \\cos{(7\\pi/4)})$',\n",
        "        markeredgecolor='black',\n",
        "        color='navy', marker='o', markersize=10)\n",
        "ax.plot(7*np.pi/4, np.sin(7*np.pi/4), label='$(7\\pi/4, \\sin{(7\\pi/4)})$',\n",
        "        markeredgecolor='black', alpha=0.5,\n",
        "        color='white', marker='o', markersize=10)\n",
        "\n",
        "points = np.array([i * sym.pi/4 for i in range(0, 9)])\n",
        "labels= ['$' + sym.latex(i * sym.pi/4) + '$' for i in range(0, 9)]\n",
        "\n",
        "ax.set_xticks(points)\n",
        "ax.set_xticklabels(labels)\n",
        "ax.grid()\n",
        "\n",
        "fig.legend()\n",
        "fig.show()"
      ],
      "metadata": {
        "colab": {
          "base_uri": "https://localhost:8080/",
          "height": 471
        },
        "id": "ogsCVslwlj6q",
        "outputId": "5c066d23-047d-4028-f0a4-249cfc4ab43c"
      },
      "execution_count": 2,
      "outputs": [
        {
          "output_type": "display_data",
          "data": {
            "text/plain": [
              "<Figure size 576x720 with 1 Axes>"
            ],
            "image/png": "[encoded data removed]"
          },
          "metadata": {
            "needs_background": "light"
          }
        }
      ]
    },
    {
      "cell_type": "markdown",
      "source": [
        "If the circle is not a unit circle with radius, $r$, then points on the circle are $\\left(x, y\\right) = \\left(r\\cos{\\theta}, r\\sin{\\theta}\\right)$"
      ],
      "metadata": {
        "id": "ySezNq51tXoY"
      }
    },
    {
      "cell_type": "markdown",
      "source": [
        "### Important Trigonometric Identity"
      ],
      "metadata": {
        "id": "3GS988LpsvXS"
      }
    },
    {
      "cell_type": "markdown",
      "source": [
        "$$\n",
        "\\begin{align}\n",
        "\\left(r\\cos{\\theta}\\right)^{2} + \\left(r\\sin{\\theta}\\right)^{2} &= r^{2} \\\\\n",
        "r^{2}\\cos^{2}{\\theta} + r^2\\sin^{2}{\\theta} &= r^{2} \\\\\n",
        "\\cos^{2}{\\theta} + \\sin^{2}{\\theta} &= 1\n",
        "\\end{align}\n",
        "$$"
      ],
      "metadata": {
        "id": "7cfozW7ftEIH"
      }
    },
    {
      "cell_type": "markdown",
      "source": [
        "### Example\n",
        "\n",
        "Find $\\cos{\\theta}$ if $\\sin{\\theta} = \\frac{3}{5}$ and $\\theta$ is in Quadrant II. "
      ],
      "metadata": {
        "id": "pUBlpIxgvyF1"
      }
    },
    {
      "cell_type": "markdown",
      "source": [
        "$\n",
        "\\begin{align}\n",
        "\\cos^{2}{\\theta} + \\sin^{2}{\\theta} &= 1 \\\\\n",
        "\\cos^{2}{\\theta} + \\left(\\frac{3}{5}\\right)^{2} &= 1 \\\\\n",
        "\\cos^{2}{\\theta} + \\frac{9}{25} &= 1 \\\\\n",
        "\\cos^{2}{\\theta} &= \\frac{16}{25} \\\\\n",
        "\\cos{\\theta} &= \\pm\\frac{4}{5}\n",
        "\\end{align}\n",
        "$\n",
        "\n",
        "Cosine is negative in Quadrant II.\n",
        "\n",
        "$\n",
        "\\therefore \\cos{\\theta} = -\\frac{4}{5}\n",
        "$"
      ],
      "metadata": {
        "id": "w3zlcLl0xZIh"
      }
    },
    {
      "cell_type": "markdown",
      "source": [
        "### $f(x) = \\sin{x}$"
      ],
      "metadata": {
        "id": "eZKhG72g8FW8"
      }
    },
    {
      "cell_type": "code",
      "source": [
        "x = np.linspace(0, 2 * np.pi, 100)\n",
        "y = np.sin(x)\n",
        "\n",
        "plt.axvline(0, color='dodgerblue')\n",
        "plt.axhline(0, color='dodgerblue')\n",
        "\n",
        "points = np.array([i * sym.pi/4 for i in range(0, 9)])\n",
        "labels = ['$' + sym.latex(i * sym.pi/4) + '$' for i in range(0, 9)]\n",
        "\n",
        "plt.xticks(points, labels)\n",
        "plt.plot(x, y, color='red')\n",
        "plt.title('$f(x) = \\sin{(x)}$')\n",
        "plt.grid()\n",
        "\n",
        "plt.show()"
      ],
      "metadata": {
        "colab": {
          "base_uri": "https://localhost:8080/",
          "height": 292
        },
        "id": "4KXXvtX88LaZ",
        "outputId": "4d8e97a4-fb61-4c86-c293-52e857046626"
      },
      "execution_count": 3,
      "outputs": [
        {
          "output_type": "display_data",
          "data": {
            "text/plain": [
              "<Figure size 432x288 with 1 Axes>"
            ],
            "image/png": "[encoded data removed]"
          },
          "metadata": {
            "needs_background": "light"
          }
        }
      ]
    },
    {
      "cell_type": "code",
      "source": [
        "from math import isnan\n",
        "\n",
        "x = sym.symbols('x')\n",
        "\n",
        "f = sym.sin(x)\n",
        "\n",
        "the_domain = sym.calculus.util.continuous_domain(f, x, sym.S.Reals)\n",
        "\n",
        "try:\n",
        "    the_range = sym.calculus.util.function_range(f, x, sym.S.Reals)\n",
        "except NotImplementedError:\n",
        "    the_range = 'Not found'\n",
        "\n",
        "x_intercepts = sym.solveset(f)\n",
        "\n",
        "y_intercept = None if isnan(f.subs(x, 0)) else '(0, ' + str(f.subs(x, 0)) + ')'"
      ],
      "metadata": {
        "id": "XWtK99-P9_Sn"
      },
      "execution_count": 4,
      "outputs": []
    },
    {
      "cell_type": "code",
      "source": [
        "the_domain"
      ],
      "metadata": {
        "colab": {
          "base_uri": "https://localhost:8080/",
          "height": 38
        },
        "id": "WqOEpmQb_ARn",
        "outputId": "b76d0343-ed4b-49f6-97d8-2eb25a6d4a31"
      },
      "execution_count": 5,
      "outputs": [
        {
          "output_type": "execute_result",
          "data": {
            "text/plain": [
              "Reals"
            ],
            "text/latex": "$\\displaystyle \\mathbb{R}$"
          },
          "metadata": {},
          "execution_count": 5
        }
      ]
    },
    {
      "cell_type": "code",
      "source": [
        "the_range"
      ],
      "metadata": {
        "colab": {
          "base_uri": "https://localhost:8080/",
          "height": 37
        },
        "id": "2ikOOEUQ_Cwr",
        "outputId": "b2eff944-c222-4a0f-92a2-548160e17757"
      },
      "execution_count": 6,
      "outputs": [
        {
          "output_type": "execute_result",
          "data": {
            "text/plain": [
              "Interval(-1, 1)"
            ],
            "text/latex": "$\\displaystyle \\left[-1, 1\\right]$"
          },
          "metadata": {},
          "execution_count": 6
        }
      ]
    },
    {
      "cell_type": "code",
      "source": [
        "x_intercepts"
      ],
      "metadata": {
        "colab": {
          "base_uri": "https://localhost:8080/",
          "height": 39
        },
        "id": "YM_KiZGx_Erj",
        "outputId": "b21b08db-8357-4d1a-ad8e-e5844962e34a"
      },
      "execution_count": 7,
      "outputs": [
        {
          "output_type": "execute_result",
          "data": {
            "text/plain": [
              "Union(ImageSet(Lambda(_n, 2*_n*pi + pi), Integers), ImageSet(Lambda(_n, 2*_n*pi), Integers))"
            ],
            "text/latex": "$\\displaystyle \\left\\{2 n \\pi\\; |\\; n \\in \\mathbb{Z}\\right\\} \\cup \\left\\{2 n \\pi + \\pi\\; |\\; n \\in \\mathbb{Z}\\right\\}$"
          },
          "metadata": {},
          "execution_count": 7
        }
      ]
    },
    {
      "cell_type": "code",
      "source": [
        "y_intercept"
      ],
      "metadata": {
        "colab": {
          "base_uri": "https://localhost:8080/",
          "height": 36
        },
        "id": "glI6-dk0_H6l",
        "outputId": "7406d086-98a8-4ee5-b258-4687c9c95f8d"
      },
      "execution_count": 8,
      "outputs": [
        {
          "output_type": "execute_result",
          "data": {
            "text/plain": [
              "'(0, 0)'"
            ],
            "application/vnd.google.colaboratory.intrinsic+json": {
              "type": "string"
            }
          },
          "metadata": {},
          "execution_count": 8
        }
      ]
    },
    {
      "cell_type": "markdown",
      "source": [
        "What is the end behaviour of $f(x) = \\sin{x}$? \n",
        "\n",
        "$\\lim_{x \\to \\infty} \\sin{x}$ does not exist.\n",
        "\n",
        "$\\lim_{x \\to -\\infty} \\sin{x}$ does not exist.\n",
        "\n",
        "The function **oscillates** between $-1$ and $1$. \n"
      ],
      "metadata": {
        "id": "Z9QxS-oWBCs0"
      }
    },
    {
      "cell_type": "markdown",
      "source": [
        "### $f(x) = \\cos{x}$"
      ],
      "metadata": {
        "id": "7C2AFNasB8Xh"
      }
    },
    {
      "cell_type": "code",
      "source": [
        "x = np.linspace(0, 2 * np.pi, 100)\n",
        "y = np.cos(x)\n",
        "\n",
        "plt.axvline(0, color='dodgerblue')\n",
        "plt.axhline(0, color='dodgerblue')\n",
        "\n",
        "points = np.array([i * sym.pi/4 for i in range(0, 9)])\n",
        "labels = ['$' + sym.latex(i * sym.pi/4) + '$' for i in range(0, 9)]\n",
        "\n",
        "plt.xticks(points, labels)\n",
        "plt.plot(x, y, color='red')\n",
        "plt.title('$f(x) = \\cos{(x)}$')\n",
        "plt.grid()\n",
        "\n",
        "plt.show()"
      ],
      "metadata": {
        "colab": {
          "base_uri": "https://localhost:8080/",
          "height": 292
        },
        "id": "3nmLh3eIB7KO",
        "outputId": "444e40c8-5dc3-414c-f59c-b44a4382f2b1"
      },
      "execution_count": 9,
      "outputs": [
        {
          "output_type": "display_data",
          "data": {
            "text/plain": [
              "<Figure size 432x288 with 1 Axes>"
            ],
            "image/png": "[encoded data removed]"
          },
          "metadata": {
            "needs_background": "light"
          }
        }
      ]
    },
    {
      "cell_type": "code",
      "source": [
        "x = sym.symbols('x')\n",
        "\n",
        "f = sym.cos(x)\n",
        "\n",
        "the_domain = sym.calculus.util.continuous_domain(f, x, sym.S.Reals)\n",
        "\n",
        "try:\n",
        "    the_range = sym.calculus.util.function_range(f, x, sym.S.Reals)\n",
        "except NotImplementedError:\n",
        "    the_range = 'Not found'\n",
        "\n",
        "x_intercepts = sym.solveset(f)\n",
        "\n",
        "y_intercept = None if isnan(f.subs(x, 0)) else '(0, ' + str(f.subs(x, 0)) + ')'"
      ],
      "metadata": {
        "id": "shBUcnMlCMk5"
      },
      "execution_count": 10,
      "outputs": []
    },
    {
      "cell_type": "code",
      "source": [
        "the_domain"
      ],
      "metadata": {
        "colab": {
          "base_uri": "https://localhost:8080/",
          "height": 38
        },
        "id": "Mc4XsG-6COHG",
        "outputId": "c4e4035e-3696-4015-c6c7-4f23f89ac052"
      },
      "execution_count": 11,
      "outputs": [
        {
          "output_type": "execute_result",
          "data": {
            "text/plain": [
              "Reals"
            ],
            "text/latex": "$\\displaystyle \\mathbb{R}$"
          },
          "metadata": {},
          "execution_count": 11
        }
      ]
    },
    {
      "cell_type": "code",
      "source": [
        "the_range"
      ],
      "metadata": {
        "colab": {
          "base_uri": "https://localhost:8080/",
          "height": 37
        },
        "id": "F2XhDInJCU6p",
        "outputId": "bdcfa988-ec5d-4b3a-f305-96b7b5a35985"
      },
      "execution_count": 12,
      "outputs": [
        {
          "output_type": "execute_result",
          "data": {
            "text/plain": [
              "Interval(-1, 1)"
            ],
            "text/latex": "$\\displaystyle \\left[-1, 1\\right]$"
          },
          "metadata": {},
          "execution_count": 12
        }
      ]
    },
    {
      "cell_type": "code",
      "source": [
        "x_intercepts"
      ],
      "metadata": {
        "colab": {
          "base_uri": "https://localhost:8080/",
          "height": 58
        },
        "id": "fK0j2sKtCZTy",
        "outputId": "b5d94005-974b-4c22-cc57-37319d0c46da"
      },
      "execution_count": 13,
      "outputs": [
        {
          "output_type": "execute_result",
          "data": {
            "text/plain": [
              "Union(ImageSet(Lambda(_n, 2*_n*pi + pi/2), Integers), ImageSet(Lambda(_n, 2*_n*pi + 3*pi/2), Integers))"
            ],
            "text/latex": "$\\displaystyle \\left\\{2 n \\pi + \\frac{\\pi}{2}\\; |\\; n \\in \\mathbb{Z}\\right\\} \\cup \\left\\{2 n \\pi + \\frac{3 \\pi}{2}\\; |\\; n \\in \\mathbb{Z}\\right\\}$"
          },
          "metadata": {},
          "execution_count": 13
        }
      ]
    },
    {
      "cell_type": "code",
      "source": [
        "y_intercept"
      ],
      "metadata": {
        "colab": {
          "base_uri": "https://localhost:8080/",
          "height": 36
        },
        "id": "hkkTigJDCqdo",
        "outputId": "d2ec9e3e-1f48-490c-e25b-09a1a8f80955"
      },
      "execution_count": 14,
      "outputs": [
        {
          "output_type": "execute_result",
          "data": {
            "text/plain": [
              "'(0, 1)'"
            ],
            "application/vnd.google.colaboratory.intrinsic+json": {
              "type": "string"
            }
          },
          "metadata": {},
          "execution_count": 14
        }
      ]
    },
    {
      "cell_type": "markdown",
      "source": [
        "What is the end behaviour of $f(x) = \\cos{x}$? \n",
        "\n",
        "$\\lim_{x \\to \\infty} \\cos{x}$ does not exist.\n",
        "\n",
        "$\\lim_{x \\to -\\infty} \\cos{x}$ does not exist.\n",
        "\n",
        "The function **oscillates** between $-1$ and $1$. "
      ],
      "metadata": {
        "id": "utVyRkPyCz8g"
      }
    },
    {
      "cell_type": "markdown",
      "source": [
        "### Bounded Functions\n",
        "\n",
        "A function that has both an **upper bound** and a **lower bound** is called a **bounded function**\n",
        "\n",
        "$\\sin{x}$ and $\\cos{x}$ are both bounded functions. \n",
        "\n",
        "$-1 \\le \\sin{x} \\le 1$\n",
        "\n",
        "$-1 \\le \\cos{x} \\le 1$\n"
      ],
      "metadata": {
        "id": "8uncdu7cGW0i"
      }
    },
    {
      "cell_type": "markdown",
      "source": [
        "### Symmetry\n",
        "\n",
        "The cosine function has y-axis symmetry. It is an **even** function. Imagine folding it at the y-axis.\n",
        "\n",
        "$\\cos{\\left(x\\right)} = \\cos{\\left(-x\\right)}$\n",
        "\n",
        "The sine function has origin symmetry. It is an **odd** function. Imagine rotating it 180 degrees. \n",
        "\n",
        "$\\sin{\\left(-x\\right)} = -\\sin{\\left(x\\right)}$\n"
      ],
      "metadata": {
        "id": "8B49fzqhH-5z"
      }
    },
    {
      "cell_type": "markdown",
      "source": [
        "## 1.2.1.2 Tangent, Cotangent, Secant, Cosecant"
      ],
      "metadata": {
        "id": "ab7frjhTLkz9"
      }
    },
    {
      "cell_type": "markdown",
      "source": [
        "### $f(x) = \\tan{x}$"
      ],
      "metadata": {
        "id": "R7mPGN4hantW"
      }
    },
    {
      "cell_type": "markdown",
      "source": [
        "$$\n",
        "\\tan{x} = \\frac{\\sin{x}}{\\cos{x}}\n",
        "$$"
      ],
      "metadata": {
        "id": "H4A6GYKIrNTD"
      }
    },
    {
      "cell_type": "code",
      "source": [
        "x = sym.symbols('x')\n",
        "\n",
        "expr = sym.sin(x) / sym.cos(x)\n",
        "expr"
      ],
      "metadata": {
        "colab": {
          "base_uri": "https://localhost:8080/",
          "height": 57
        },
        "id": "4SDHvCt3kSTO",
        "outputId": "66a5cbfc-3946-4968-b8d0-a830efc80747"
      },
      "execution_count": 15,
      "outputs": [
        {
          "output_type": "execute_result",
          "data": {
            "text/plain": [
              "sin(x)/cos(x)"
            ],
            "text/latex": "$\\displaystyle \\frac{\\sin{\\left(x \\right)}}{\\cos{\\left(x \\right)}}$"
          },
          "metadata": {},
          "execution_count": 15
        }
      ]
    },
    {
      "cell_type": "code",
      "source": [
        "expr.simplify()"
      ],
      "metadata": {
        "colab": {
          "base_uri": "https://localhost:8080/",
          "height": 39
        },
        "id": "4b9-x-4Ak0o3",
        "outputId": "1c398ad3-f6a2-4726-f381-98f76bbacea3"
      },
      "execution_count": 16,
      "outputs": [
        {
          "output_type": "execute_result",
          "data": {
            "text/plain": [
              "tan(x)"
            ],
            "text/latex": "$\\displaystyle \\tan{\\left(x \\right)}$"
          },
          "metadata": {},
          "execution_count": 16
        }
      ]
    },
    {
      "cell_type": "code",
      "source": [
        "x = np.linspace(0, 2 * np.pi, 1000)\n",
        "y = np.tan(x)\n",
        "\n",
        "# to get rid of the connecting lines between asymptotes\n",
        "#   inserts NaN where the difference between\n",
        "#   successive points is negative\n",
        "y[:-1][np.diff(y) < 0] = np.nan\n",
        "\n",
        "plt.axvline(0, color='dodgerblue')\n",
        "plt.axhline(0, color='dodgerblue')\n",
        "\n",
        "points = np.array([i * sym.pi/4 for i in range(0, 9)])\n",
        "labels = ['$' + sym.latex(i * sym.pi/4) + '$' for i in range(0, 9)]\n",
        "\n",
        "plt.xticks(points, labels)\n",
        "\n",
        "plt.gca().set_ylim([-10, 10])\n",
        "plt.plot(x, y, color='red')\n",
        "plt.title('$f(x) = \\\\tan{(x)}$')\n",
        "plt.grid()\n",
        "\n",
        "plt.show()"
      ],
      "metadata": {
        "colab": {
          "base_uri": "https://localhost:8080/",
          "height": 292
        },
        "id": "TYaicYRsa8_K",
        "outputId": "96edd2de-60c6-4852-8290-f4f691a13bb3"
      },
      "execution_count": 17,
      "outputs": [
        {
          "output_type": "display_data",
          "data": {
            "text/plain": [
              "<Figure size 432x288 with 1 Axes>"
            ],
            "image/png": "[encoded data removed]"
          },
          "metadata": {
            "needs_background": "light"
          }
        }
      ]
    },
    {
      "cell_type": "markdown",
      "source": [
        "### $f(x) = \\csc{x}$"
      ],
      "metadata": {
        "id": "9_3lWQqftCRS"
      }
    },
    {
      "cell_type": "markdown",
      "source": [
        "$$\n",
        "\\csc{x} = \\frac{1}{\\sin{x}}\n",
        "$$"
      ],
      "metadata": {
        "id": "hSqpAwZptV8R"
      }
    },
    {
      "cell_type": "code",
      "source": [
        "x = sym.symbols('x')\n",
        "\n",
        "expr = 1 / sym.sin(x)\n",
        "expr"
      ],
      "metadata": {
        "colab": {
          "base_uri": "https://localhost:8080/",
          "height": 55
        },
        "id": "I8KUqJGftefi",
        "outputId": "55d363c9-2536-429b-db60-5e21983f4132"
      },
      "execution_count": 18,
      "outputs": [
        {
          "output_type": "execute_result",
          "data": {
            "text/plain": [
              "1/sin(x)"
            ],
            "text/latex": "$\\displaystyle \\frac{1}{\\sin{\\left(x \\right)}}$"
          },
          "metadata": {},
          "execution_count": 18
        }
      ]
    },
    {
      "cell_type": "code",
      "source": [
        "expr.simplify()"
      ],
      "metadata": {
        "colab": {
          "base_uri": "https://localhost:8080/",
          "height": 55
        },
        "id": "k1OZ5NaztqKm",
        "outputId": "e5f16e0d-1e03-4d84-83f1-f7eea03e0f38"
      },
      "execution_count": 19,
      "outputs": [
        {
          "output_type": "execute_result",
          "data": {
            "text/plain": [
              "1/sin(x)"
            ],
            "text/latex": "$\\displaystyle \\frac{1}{\\sin{\\left(x \\right)}}$"
          },
          "metadata": {},
          "execution_count": 19
        }
      ]
    },
    {
      "cell_type": "code",
      "source": [
        "sym.csc(x).equals(expr)"
      ],
      "metadata": {
        "colab": {
          "base_uri": "https://localhost:8080/"
        },
        "id": "ln-ezdYktsPP",
        "outputId": "151fadc5-f9d7-41a9-89b8-77dea8c9c27c"
      },
      "execution_count": 20,
      "outputs": [
        {
          "output_type": "execute_result",
          "data": {
            "text/plain": [
              "True"
            ]
          },
          "metadata": {},
          "execution_count": 20
        }
      ]
    },
    {
      "cell_type": "code",
      "source": [
        "x = np.linspace(0, 2 * np.pi, 1000)\n",
        "#y = 1 / np.sin(x)\n",
        "y = np.array([sym.csc(n) for n in x])\n",
        "\n",
        "# to get rid of the connecting lines between asymptotes\n",
        "#   inserts NaN where the absolute value \n",
        "#   of the difference between successive points \n",
        "#   is greater than 1. \n",
        "# this is a modification of the strategy\n",
        "#     used above for plotting tan(x)\n",
        "y[:-1][np.abs(np.diff(y)) > 1] = np.nan\n",
        "\n",
        "plt.axvline(0, color='dodgerblue')\n",
        "plt.axhline(0, color='dodgerblue')\n",
        "\n",
        "points = np.array([i * sym.pi/4 for i in range(0, 9)])\n",
        "labels = ['$' + sym.latex(i * sym.pi/4) + '$' for i in range(0, 9)]\n",
        "\n",
        "plt.xticks(points, labels)\n",
        "\n",
        "plt.gca().set_ylim([-5, 5])\n",
        "plt.plot(x, y, color='red', label='$\\csc{(x)}$')\n",
        "plt.plot(x, np.sin(x), color='lightgray', label='$\\sin{(x)}$')\n",
        "plt.title('$f(x) = \\csc{(x)}$')\n",
        "plt.grid()\n",
        "\n",
        "plt.legend()\n",
        "\n",
        "plt.show()"
      ],
      "metadata": {
        "colab": {
          "base_uri": "https://localhost:8080/",
          "height": 292
        },
        "id": "q0iy5NRrxx4w",
        "outputId": "fb87f83f-b301-4816-d30f-b576affd3cc5"
      },
      "execution_count": 21,
      "outputs": [
        {
          "output_type": "display_data",
          "data": {
            "text/plain": [
              "<Figure size 432x288 with 1 Axes>"
            ],
            "image/png": "[encoded data removed]"
          },
          "metadata": {
            "needs_background": "light"
          }
        }
      ]
    },
    {
      "cell_type": "markdown",
      "source": [
        "### $f(x) = \\sec{x}$"
      ],
      "metadata": {
        "id": "qbfe2XJJl-I0"
      }
    },
    {
      "cell_type": "markdown",
      "source": [
        "$$\n",
        "\\sec{x} = \\frac{1}{\\cos{x}}\n",
        "$$"
      ],
      "metadata": {
        "id": "Hnuih37MzjZJ"
      }
    },
    {
      "cell_type": "code",
      "source": [
        "x = sym.symbols('x')\n",
        "\n",
        "expr = 1 / sym.cos(x)\n",
        "expr"
      ],
      "metadata": {
        "colab": {
          "base_uri": "https://localhost:8080/",
          "height": 55
        },
        "id": "jDoxlBthzvdM",
        "outputId": "5c5cd9f7-a6a5-4fd0-95ad-aea2895bf11d"
      },
      "execution_count": 22,
      "outputs": [
        {
          "output_type": "execute_result",
          "data": {
            "text/plain": [
              "1/cos(x)"
            ],
            "text/latex": "$\\displaystyle \\frac{1}{\\cos{\\left(x \\right)}}$"
          },
          "metadata": {},
          "execution_count": 22
        }
      ]
    },
    {
      "cell_type": "code",
      "source": [
        "expr.simplify()"
      ],
      "metadata": {
        "colab": {
          "base_uri": "https://localhost:8080/",
          "height": 55
        },
        "id": "6EIy4hQDz4eo",
        "outputId": "8903034d-1e26-424e-f031-e400a8a8c997"
      },
      "execution_count": 23,
      "outputs": [
        {
          "output_type": "execute_result",
          "data": {
            "text/plain": [
              "1/cos(x)"
            ],
            "text/latex": "$\\displaystyle \\frac{1}{\\cos{\\left(x \\right)}}$"
          },
          "metadata": {},
          "execution_count": 23
        }
      ]
    },
    {
      "cell_type": "code",
      "source": [
        "sym.sec(x).equals(expr)"
      ],
      "metadata": {
        "colab": {
          "base_uri": "https://localhost:8080/"
        },
        "id": "bk9Nd3gpz66B",
        "outputId": "8ed9f4fd-2549-4e4e-bbd9-32625fbe3923"
      },
      "execution_count": 24,
      "outputs": [
        {
          "output_type": "execute_result",
          "data": {
            "text/plain": [
              "True"
            ]
          },
          "metadata": {},
          "execution_count": 24
        }
      ]
    },
    {
      "cell_type": "code",
      "source": [
        "x = np.linspace(0, 2 * np.pi, 1000)\n",
        "#y = 1 / np.cos(x)\n",
        "y = np.array([sym.sec(n) for n in x])\n",
        "\n",
        "# to get rid of the connecting lines between asymptotes\n",
        "#   inserts NaN where the absolute value \n",
        "#   of the difference between successive points \n",
        "#   is greater than 1. \n",
        "# this is a modification of the strategy\n",
        "#     used above for plotting tan(x)\n",
        "y[:-1][np.abs(np.diff(y)) > 1] = np.nan\n",
        "\n",
        "plt.axvline(0, color='dodgerblue')\n",
        "plt.axhline(0, color='dodgerblue')\n",
        "\n",
        "points = np.array([i * sym.pi/4 for i in range(0, 9)])\n",
        "labels = ['$' + sym.latex(i * sym.pi/4) + '$' for i in range(0, 9)]\n",
        "plt.xticks(points, labels)\n",
        "\n",
        "plt.gca().set_ylim([-5, 5])\n",
        "plt.plot(x, y, color='red', label='$\\sec{(x)}$')\n",
        "plt.plot(x, np.cos(x), color='lightgray', label='$\\cos{(x)}$')\n",
        "plt.title('$f(x) = \\sec{(x)}$')\n",
        "plt.grid()\n",
        "\n",
        "plt.legend()\n",
        "\n",
        "plt.show()"
      ],
      "metadata": {
        "colab": {
          "base_uri": "https://localhost:8080/",
          "height": 292
        },
        "id": "mDb5iZVomGJ1",
        "outputId": "bdbb2b32-b240-41c0-98e9-3247e7f45d5c"
      },
      "execution_count": 25,
      "outputs": [
        {
          "output_type": "display_data",
          "data": {
            "text/plain": [
              "<Figure size 432x288 with 1 Axes>"
            ],
            "image/png": "[encoded data removed]"
          },
          "metadata": {
            "needs_background": "light"
          }
        }
      ]
    },
    {
      "cell_type": "markdown",
      "source": [
        "### $f(x) = \\cot{x}$"
      ],
      "metadata": {
        "id": "J4mlySIq05H-"
      }
    },
    {
      "cell_type": "markdown",
      "source": [
        "$$\n",
        "\\cot{x} = \\frac{1}{\\tan{x}} = \\frac{\\cos{x}}{\\sin{x}}\n",
        "$$"
      ],
      "metadata": {
        "id": "N1yJYguk0-AF"
      }
    },
    {
      "cell_type": "code",
      "source": [
        "x = sym.symbols('x')\n",
        "\n",
        "expr1 = sym.cot(x)\n",
        "expr1"
      ],
      "metadata": {
        "colab": {
          "base_uri": "https://localhost:8080/",
          "height": 39
        },
        "id": "cIvdpCV01MN2",
        "outputId": "2e9fb4da-f8f2-43ef-b415-85d3565d39d7"
      },
      "execution_count": 26,
      "outputs": [
        {
          "output_type": "execute_result",
          "data": {
            "text/plain": [
              "cot(x)"
            ],
            "text/latex": "$\\displaystyle \\cot{\\left(x \\right)}$"
          },
          "metadata": {},
          "execution_count": 26
        }
      ]
    },
    {
      "cell_type": "code",
      "source": [
        "expr2 = 1 / sym.tan(x)\n",
        "expr2"
      ],
      "metadata": {
        "colab": {
          "base_uri": "https://localhost:8080/",
          "height": 55
        },
        "id": "qeoqcEwX1aRS",
        "outputId": "6805d956-dbb8-4619-d1bb-ad53c156d2d0"
      },
      "execution_count": 27,
      "outputs": [
        {
          "output_type": "execute_result",
          "data": {
            "text/plain": [
              "1/tan(x)"
            ],
            "text/latex": "$\\displaystyle \\frac{1}{\\tan{\\left(x \\right)}}$"
          },
          "metadata": {},
          "execution_count": 27
        }
      ]
    },
    {
      "cell_type": "code",
      "source": [
        "expr3 = sym.cos(x) / sym.sin(x)\n",
        "expr3"
      ],
      "metadata": {
        "colab": {
          "base_uri": "https://localhost:8080/",
          "height": 57
        },
        "id": "0e1jKF_A1spP",
        "outputId": "8ce4bced-f7c7-4c79-b6be-52d1a870f38f"
      },
      "execution_count": 28,
      "outputs": [
        {
          "output_type": "execute_result",
          "data": {
            "text/plain": [
              "cos(x)/sin(x)"
            ],
            "text/latex": "$\\displaystyle \\frac{\\cos{\\left(x \\right)}}{\\sin{\\left(x \\right)}}$"
          },
          "metadata": {},
          "execution_count": 28
        }
      ]
    },
    {
      "cell_type": "code",
      "source": [
        "expr3.simplify()"
      ],
      "metadata": {
        "colab": {
          "base_uri": "https://localhost:8080/",
          "height": 55
        },
        "id": "EbkGZvV811XN",
        "outputId": "811261d0-922f-4a67-eac3-165fd3523c25"
      },
      "execution_count": 29,
      "outputs": [
        {
          "output_type": "execute_result",
          "data": {
            "text/plain": [
              "1/tan(x)"
            ],
            "text/latex": "$\\displaystyle \\frac{1}{\\tan{\\left(x \\right)}}$"
          },
          "metadata": {},
          "execution_count": 29
        }
      ]
    },
    {
      "cell_type": "code",
      "source": [
        "expr1.equals(expr2), expr1.equals(expr3), expr2.equals(expr3)"
      ],
      "metadata": {
        "colab": {
          "base_uri": "https://localhost:8080/"
        },
        "id": "vyeExV5613p_",
        "outputId": "4af2afbb-0a4c-4f36-8de6-64507d2d59a0"
      },
      "execution_count": 30,
      "outputs": [
        {
          "output_type": "execute_result",
          "data": {
            "text/plain": [
              "(True, True, True)"
            ]
          },
          "metadata": {},
          "execution_count": 30
        }
      ]
    },
    {
      "cell_type": "code",
      "source": [
        "x = np.linspace(0, 2 * np.pi, 1000)\n",
        "#y = 1 / np.tan(x)\n",
        "y = np.array([sym.cot(n) for n in x])\n",
        "\n",
        "# to get rid of the connecting lines between asymptotes\n",
        "#   inserts NaN where the absolute value \n",
        "#   of the difference between successive points \n",
        "#   is greater than 1. \n",
        "# this is a modification of the strategy\n",
        "#     used above for plotting tan(x)\n",
        "y[:-1][np.abs(np.diff(y)) > 1] = np.nan\n",
        "\n",
        "plt.axvline(0, color='dodgerblue')\n",
        "plt.axhline(0, color='dodgerblue')\n",
        "\n",
        "points = np.array([i * sym.pi/4 for i in range(0, 9)])\n",
        "labels = ['$' + sym.latex(i * sym.pi/4) + '$' for i in range(0, 9)]\n",
        "plt.xticks(points, labels)\n",
        "\n",
        "plt.gca().set_ylim([-5, 5])\n",
        "plt.plot(x, y, color='red', label='$\\cot{(x)}$')\n",
        "plt.plot(x, np.tan(x), color='lightgray', label='$\\\\tan{(x)}$')\n",
        "plt.title('$f(x) = \\cot{(x)}$')\n",
        "plt.grid()\n",
        "\n",
        "plt.legend()\n",
        "\n",
        "plt.show()"
      ],
      "metadata": {
        "colab": {
          "base_uri": "https://localhost:8080/",
          "height": 292
        },
        "id": "r2JkDpEI4GSH",
        "outputId": "71604f96-83b1-4555-e54a-9bbe93872d19"
      },
      "execution_count": 31,
      "outputs": [
        {
          "output_type": "display_data",
          "data": {
            "text/plain": [
              "<Figure size 432x288 with 1 Axes>"
            ],
            "image/png": "[encoded data removed]"
          },
          "metadata": {
            "needs_background": "light"
          }
        }
      ]
    },
    {
      "cell_type": "markdown",
      "source": [
        "### Domain, Range, x-intercepts and y-intercept"
      ],
      "metadata": {
        "id": "U5QXoyS3uR96"
      }
    },
    {
      "cell_type": "code",
      "source": [
        "x = sym.symbols('x')\n",
        "trig_functions = dict.fromkeys([sym.sin(x), sym.cos(x), sym.tan(x),\n",
        "                                sym.csc(x), sym.sec(x), sym.cot(x)])\n",
        "for key in trig_functions.keys():\n",
        "    trig_functions[key] = {'domain':\n",
        "                           sym.calculus.util.continuous_domain(key, \n",
        "                                                                x, \n",
        "                                                                sym.S.Reals), \n",
        "                           'range':\n",
        "                           sym.calculus.util.function_range(key, \n",
        "                                                            x, \n",
        "                                                            sym.S.Reals), \n",
        "                           'x-intercepts': sym.solveset(key),\n",
        "                           'y-intercept': '(0, ' + str(key.subs(x, 0)) + ')'\n",
        "                                         if key.subs(x, 0).is_real\n",
        "                                         else None}"
      ],
      "metadata": {
        "id": "5EVHwLAHuT3X"
      },
      "execution_count": 32,
      "outputs": []
    },
    {
      "cell_type": "code",
      "source": [
        "for key in trig_functions.keys():\n",
        "    display(Markdown(\n",
        "        '$' + sym.latex(key) + '$' + \n",
        "        '<br>&nbsp;&nbsp;&nbsp;&nbsp;' + 'Domain: ' + \n",
        "        '$' + sym.latex(trig_functions[key][\"domain\"]) + '$' + \n",
        "        '<br>&nbsp;&nbsp;&nbsp;&nbsp;' + 'Range: ' + \n",
        "        '$' + sym.latex(trig_functions[key][\"range\"]) + '$' + \n",
        "        '<br>&nbsp;&nbsp;&nbsp;&nbsp;' + 'x-intercepts : ' +\n",
        "        '$' + sym.latex(trig_functions[key][\"x-intercepts\"]) + '$' + \n",
        "        '<br>&nbsp;&nbsp;&nbsp;&nbsp;' + 'y-intercept : ' + \n",
        "        '$' + sym.latex(trig_functions[key][\"y-intercept\"]) + '$' + '<br><br>'\n",
        "        )\n",
        "    )"
      ],
      "metadata": {
        "colab": {
          "base_uri": "https://localhost:8080/",
          "height": 797
        },
        "id": "wM1cNcz7uaej",
        "outputId": "00f9ba35-23dd-4eb9-9c50-1677779002e0"
      },
      "execution_count": 33,
      "outputs": [
        {
          "output_type": "display_data",
          "data": {
            "text/plain": [
              "<IPython.core.display.Markdown object>"
            ],
            "text/markdown": "$\\sin{\\left(x \\right)}$<br>&nbsp;&nbsp;&nbsp;&nbsp;Domain: $\\mathbb{R}$<br>&nbsp;&nbsp;&nbsp;&nbsp;Range: $\\left[-1, 1\\right]$<br>&nbsp;&nbsp;&nbsp;&nbsp;x-intercepts : $\\left\\{2 n \\pi\\; |\\; n \\in \\mathbb{Z}\\right\\} \\cup \\left\\{2 n \\pi + \\pi\\; |\\; n \\in \\mathbb{Z}\\right\\}$<br>&nbsp;&nbsp;&nbsp;&nbsp;y-intercept : $\\mathtt{\\text{(0, 0)}}$<br><br>"
          },
          "metadata": {}
        },
        {
          "output_type": "display_data",
          "data": {
            "text/plain": [
              "<IPython.core.display.Markdown object>"
            ],
            "text/markdown": "$\\cos{\\left(x \\right)}$<br>&nbsp;&nbsp;&nbsp;&nbsp;Domain: $\\mathbb{R}$<br>&nbsp;&nbsp;&nbsp;&nbsp;Range: $\\left[-1, 1\\right]$<br>&nbsp;&nbsp;&nbsp;&nbsp;x-intercepts : $\\left\\{2 n \\pi + \\frac{\\pi}{2}\\; |\\; n \\in \\mathbb{Z}\\right\\} \\cup \\left\\{2 n \\pi + \\frac{3 \\pi}{2}\\; |\\; n \\in \\mathbb{Z}\\right\\}$<br>&nbsp;&nbsp;&nbsp;&nbsp;y-intercept : $\\mathtt{\\text{(0, 1)}}$<br><br>"
          },
          "metadata": {}
        },
        {
          "output_type": "display_data",
          "data": {
            "text/plain": [
              "<IPython.core.display.Markdown object>"
            ],
            "text/markdown": "$\\tan{\\left(x \\right)}$<br>&nbsp;&nbsp;&nbsp;&nbsp;Domain: $\\mathbb{R} \\setminus \\left(\\left\\{2 n \\pi + \\frac{\\pi}{2}\\; |\\; n \\in \\mathbb{Z}\\right\\} \\cup \\left\\{2 n \\pi + \\frac{3 \\pi}{2}\\; |\\; n \\in \\mathbb{Z}\\right\\}\\right)$<br>&nbsp;&nbsp;&nbsp;&nbsp;Range: $\\left(-\\infty, \\infty\\right)$<br>&nbsp;&nbsp;&nbsp;&nbsp;x-intercepts : $\\left\\{2 n \\pi\\; |\\; n \\in \\mathbb{Z}\\right\\} \\cup \\left\\{2 n \\pi + \\pi\\; |\\; n \\in \\mathbb{Z}\\right\\}$<br>&nbsp;&nbsp;&nbsp;&nbsp;y-intercept : $\\mathtt{\\text{(0, 0)}}$<br><br>"
          },
          "metadata": {}
        },
        {
          "output_type": "display_data",
          "data": {
            "text/plain": [
              "<IPython.core.display.Markdown object>"
            ],
            "text/markdown": "$\\csc{\\left(x \\right)}$<br>&nbsp;&nbsp;&nbsp;&nbsp;Domain: $\\mathbb{R} \\setminus \\left(\\left\\{2 n \\pi\\; |\\; n \\in \\mathbb{Z}\\right\\} \\cup \\left\\{2 n \\pi + \\pi\\; |\\; n \\in \\mathbb{Z}\\right\\}\\right)$<br>&nbsp;&nbsp;&nbsp;&nbsp;Range: $\\left(-\\infty, -1\\right] \\cup \\left[1, \\infty\\right)$<br>&nbsp;&nbsp;&nbsp;&nbsp;x-intercepts : $\\emptyset$<br>&nbsp;&nbsp;&nbsp;&nbsp;y-intercept : $\\text{None}$<br><br>"
          },
          "metadata": {}
        },
        {
          "output_type": "display_data",
          "data": {
            "text/plain": [
              "<IPython.core.display.Markdown object>"
            ],
            "text/markdown": "$\\sec{\\left(x \\right)}$<br>&nbsp;&nbsp;&nbsp;&nbsp;Domain: $\\mathbb{R} \\setminus \\left(\\left\\{2 n \\pi + \\frac{\\pi}{2}\\; |\\; n \\in \\mathbb{Z}\\right\\} \\cup \\left\\{2 n \\pi + \\frac{3 \\pi}{2}\\; |\\; n \\in \\mathbb{Z}\\right\\}\\right)$<br>&nbsp;&nbsp;&nbsp;&nbsp;Range: $\\left(-\\infty, -1\\right] \\cup \\left[1, \\infty\\right)$<br>&nbsp;&nbsp;&nbsp;&nbsp;x-intercepts : $\\emptyset$<br>&nbsp;&nbsp;&nbsp;&nbsp;y-intercept : $\\mathtt{\\text{(0, 1)}}$<br><br>"
          },
          "metadata": {}
        },
        {
          "output_type": "display_data",
          "data": {
            "text/plain": [
              "<IPython.core.display.Markdown object>"
            ],
            "text/markdown": "$\\cot{\\left(x \\right)}$<br>&nbsp;&nbsp;&nbsp;&nbsp;Domain: $\\mathbb{R} \\setminus \\left(\\left\\{2 n \\pi\\; |\\; n \\in \\mathbb{Z}\\right\\} \\cup \\left\\{2 n \\pi + \\pi\\; |\\; n \\in \\mathbb{Z}\\right\\}\\right)$<br>&nbsp;&nbsp;&nbsp;&nbsp;Range: $\\left(-\\infty, \\infty\\right)$<br>&nbsp;&nbsp;&nbsp;&nbsp;x-intercepts : $\\left\\{2 n \\pi + \\frac{\\pi}{2}\\; |\\; n \\in \\mathbb{Z}\\right\\} \\cup \\left\\{2 n \\pi + \\frac{3 \\pi}{2}\\; |\\; n \\in \\mathbb{Z}\\right\\}$<br>&nbsp;&nbsp;&nbsp;&nbsp;y-intercept : $\\text{None}$<br><br>"
          },
          "metadata": {}
        }
      ]
    }
  ]
}
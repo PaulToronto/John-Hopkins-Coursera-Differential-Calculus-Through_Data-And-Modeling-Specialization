{
  "nbformat": 4,
  "nbformat_minor": 0,
  "metadata": {
    "colab": {
      "provenance": [],
      "toc_visible": true,
      "collapsed_sections": [
        "7xE4mLzAWRg-",
        "mfV42vqCWy66",
        "JfE-N-rwbiNf",
        "ttmTiJ2mkika",
        "A_J67TK0qIpN",
        "Ef0kYzIU2KWS",
        "mypg4xe46C-I",
        "3gk7v9Qc7X10"
      ],
      "authorship_tag": "ABX9TyOpU5bT9FAUaFkCFLfJIa0a",
      "include_colab_link": true
    },
    "kernelspec": {
      "name": "python3",
      "display_name": "Python 3"
    },
    "language_info": {
      "name": "python"
    }
  },
  "cells": [
    {
      "cell_type": "markdown",
      "metadata": {
        "id": "view-in-github",
        "colab_type": "text"
      },
      "source": [
        "<a href=\"https://colab.research.google.com/github/PaulToronto/Johns-Hopkins-Coursera-Differential-Calculus-Through-Data-And-Modeling-Specialization/blob/main/3_1_Limits_and_Rates_of_Change.ipynb\" target=\"_parent\"><img src=\"https://colab.research.google.com/assets/colab-badge.svg\" alt=\"Open In Colab\"/></a>"
      ]
    },
    {
      "cell_type": "markdown",
      "source": [
        "# 3.1 Limits and Rates of Change"
      ],
      "metadata": {
        "id": "MW06y7sXTDtq"
      }
    },
    {
      "cell_type": "code",
      "source": [
        "import sympy as sym\n",
        "import numpy as np\n",
        "import matplotlib.pyplot as plt"
      ],
      "metadata": {
        "id": "oXhoHmyqXKmx"
      },
      "execution_count": 1,
      "outputs": []
    },
    {
      "cell_type": "markdown",
      "source": [
        "## 3.1.1 Reading: Lists and Tuples in Python"
      ],
      "metadata": {
        "id": "nEWEs1N9TJax"
      }
    },
    {
      "cell_type": "markdown",
      "source": [
        "### Lists\n",
        "\n",
        "- a list is an **ordered** collection of objects\n",
        "- lists are mutable\n",
        "- can contain an unlimited number of objects of any type\n",
        "- a list's **lenght** is the number of objects in the list\n",
        "- the objects are indexed\n",
        "    - zero-based indexing"
      ],
      "metadata": {
        "id": "WX9MM4twTVfR"
      }
    },
    {
      "cell_type": "code",
      "source": [
        "my_list = [12, 'seven', -2.5]\n",
        "len(my_list)"
      ],
      "metadata": {
        "colab": {
          "base_uri": "https://localhost:8080/"
        },
        "id": "70f9CVgnUCtX",
        "outputId": "7697b248-49a1-4ba5-b559-f0a98b5f1e15"
      },
      "execution_count": 2,
      "outputs": [
        {
          "output_type": "execute_result",
          "data": {
            "text/plain": [
              "3"
            ]
          },
          "metadata": {},
          "execution_count": 2
        }
      ]
    },
    {
      "cell_type": "code",
      "source": [
        "my_list[0]"
      ],
      "metadata": {
        "colab": {
          "base_uri": "https://localhost:8080/"
        },
        "id": "rt_LlnftUGD-",
        "outputId": "169e5ae1-02a3-4027-a63c-d36ffe4e1182"
      },
      "execution_count": 3,
      "outputs": [
        {
          "output_type": "execute_result",
          "data": {
            "text/plain": [
              "12"
            ]
          },
          "metadata": {},
          "execution_count": 3
        }
      ]
    },
    {
      "cell_type": "code",
      "source": [
        "number_list = [0, -1, 5, -2.7, 5.9, 0, 4.1]\n",
        "max(number_list), min(number_list)"
      ],
      "metadata": {
        "colab": {
          "base_uri": "https://localhost:8080/"
        },
        "id": "ZqjchV9PUMIu",
        "outputId": "6f1cf41a-3f46-4d25-b66e-4a35c1c54202"
      },
      "execution_count": 4,
      "outputs": [
        {
          "output_type": "execute_result",
          "data": {
            "text/plain": [
              "(5.9, -2.7)"
            ]
          },
          "metadata": {},
          "execution_count": 4
        }
      ]
    },
    {
      "cell_type": "markdown",
      "source": [
        "### Tuples\n",
        "\n",
        "- like a list, but **immutable**"
      ],
      "metadata": {
        "id": "fbbylzskTwBR"
      }
    },
    {
      "cell_type": "code",
      "source": [
        "my_tuple = (1, 2, 3)\n",
        "type(my_tuple)"
      ],
      "metadata": {
        "colab": {
          "base_uri": "https://localhost:8080/"
        },
        "id": "yvXbNHuEUdI6",
        "outputId": "dc9f6bf5-48f2-4d29-8bb8-9e27c620ddde"
      },
      "execution_count": 5,
      "outputs": [
        {
          "output_type": "execute_result",
          "data": {
            "text/plain": [
              "tuple"
            ]
          },
          "metadata": {},
          "execution_count": 5
        }
      ]
    },
    {
      "cell_type": "markdown",
      "source": [
        "### Adding items to a list"
      ],
      "metadata": {
        "id": "HQEzCU0uUsIO"
      }
    },
    {
      "cell_type": "code",
      "source": [
        "my_list = [1, 2, 3]\n",
        "my_list.append(4)\n",
        "my_list"
      ],
      "metadata": {
        "colab": {
          "base_uri": "https://localhost:8080/"
        },
        "id": "eVOsAWVvUycz",
        "outputId": "902ac31c-0f5c-4d47-d0c1-76bde61c6e4b"
      },
      "execution_count": 6,
      "outputs": [
        {
          "output_type": "execute_result",
          "data": {
            "text/plain": [
              "[1, 2, 3, 4]"
            ]
          },
          "metadata": {},
          "execution_count": 6
        }
      ]
    },
    {
      "cell_type": "code",
      "source": [
        "my_list.append([0, 0, 0])\n",
        "my_list"
      ],
      "metadata": {
        "colab": {
          "base_uri": "https://localhost:8080/"
        },
        "id": "S8BUSTc2U34C",
        "outputId": "462fdcba-a6bf-435b-d4d4-bfde04dd744a"
      },
      "execution_count": 7,
      "outputs": [
        {
          "output_type": "execute_result",
          "data": {
            "text/plain": [
              "[1, 2, 3, 4, [0, 0, 0]]"
            ]
          },
          "metadata": {},
          "execution_count": 7
        }
      ]
    },
    {
      "cell_type": "code",
      "source": [
        "my_list.extend([1, 1, 1])\n",
        "my_list"
      ],
      "metadata": {
        "colab": {
          "base_uri": "https://localhost:8080/"
        },
        "id": "pc8VRTz8VK5x",
        "outputId": "ecd882dc-3aec-4e3f-ad95-62adaa2c292e"
      },
      "execution_count": 8,
      "outputs": [
        {
          "output_type": "execute_result",
          "data": {
            "text/plain": [
              "[1, 2, 3, 4, [0, 0, 0], 1, 1, 1]"
            ]
          },
          "metadata": {},
          "execution_count": 8
        }
      ]
    },
    {
      "cell_type": "code",
      "source": [
        "my_list.insert(2, 'index two')\n",
        "my_list"
      ],
      "metadata": {
        "colab": {
          "base_uri": "https://localhost:8080/"
        },
        "id": "FDCfJiZvVRRC",
        "outputId": "dd75feca-5d78-4df4-fc6c-54c7b194283b"
      },
      "execution_count": 9,
      "outputs": [
        {
          "output_type": "execute_result",
          "data": {
            "text/plain": [
              "[1, 2, 'index two', 3, 4, [0, 0, 0], 1, 1, 1]"
            ]
          },
          "metadata": {},
          "execution_count": 9
        }
      ]
    },
    {
      "cell_type": "markdown",
      "source": [
        "### Removing items from a list"
      ],
      "metadata": {
        "id": "FitX60HeVsdS"
      }
    },
    {
      "cell_type": "code",
      "source": [
        "del my_list[2]\n",
        "my_list"
      ],
      "metadata": {
        "colab": {
          "base_uri": "https://localhost:8080/"
        },
        "id": "8cQCYmDCVvjv",
        "outputId": "c67b08a2-9943-4b8b-e48d-53c078bd0cfc"
      },
      "execution_count": 10,
      "outputs": [
        {
          "output_type": "execute_result",
          "data": {
            "text/plain": [
              "[1, 2, 3, 4, [0, 0, 0], 1, 1, 1]"
            ]
          },
          "metadata": {},
          "execution_count": 10
        }
      ]
    },
    {
      "cell_type": "code",
      "source": [
        "my_list.remove(1)"
      ],
      "metadata": {
        "id": "lEA5HiJgV55K"
      },
      "execution_count": 11,
      "outputs": []
    },
    {
      "cell_type": "code",
      "source": [
        "my_list.remove(1)"
      ],
      "metadata": {
        "id": "vSLPI3pRV9ux"
      },
      "execution_count": 12,
      "outputs": []
    },
    {
      "cell_type": "code",
      "source": [
        "my_list # when there are more than it removes only the first"
      ],
      "metadata": {
        "colab": {
          "base_uri": "https://localhost:8080/"
        },
        "id": "Oz65HFOpWCCb",
        "outputId": "9c7e5362-09c5-48bd-abc1-e8265c33b6b1"
      },
      "execution_count": 13,
      "outputs": [
        {
          "output_type": "execute_result",
          "data": {
            "text/plain": [
              "[2, 3, 4, [0, 0, 0], 1, 1]"
            ]
          },
          "metadata": {},
          "execution_count": 13
        }
      ]
    },
    {
      "cell_type": "markdown",
      "source": [
        "### List Comprehensions\n",
        "\n",
        "`[expression for item in l if condition`"
      ],
      "metadata": {
        "id": "7xE4mLzAWRg-"
      }
    },
    {
      "cell_type": "code",
      "source": [
        "number_list = [0, -1, 5, -2.7, 5.9, 0, 4.1]\n",
        "positive_number_list = [i for i in number_list if i > 0]\n",
        "positive_number_list"
      ],
      "metadata": {
        "colab": {
          "base_uri": "https://localhost:8080/"
        },
        "id": "90STldGeWiI8",
        "outputId": "b077c7ac-006f-4952-8da2-1c15ce8a1973"
      },
      "execution_count": 14,
      "outputs": [
        {
          "output_type": "execute_result",
          "data": {
            "text/plain": [
              "[5, 5.9, 4.1]"
            ]
          },
          "metadata": {},
          "execution_count": 14
        }
      ]
    },
    {
      "cell_type": "markdown",
      "source": [
        "### List Comprehension with SymPy\n",
        "\n",
        "Suppose we want to find $f(x) = x^{2} + 2x + 1$ for all $x$ in our number list. "
      ],
      "metadata": {
        "id": "mfV42vqCWy66"
      }
    },
    {
      "cell_type": "code",
      "source": [
        "number_list = [0, -1, 5, -2.7, 5.9, 0, 4.1]"
      ],
      "metadata": {
        "id": "4PENW46ZXGUi"
      },
      "execution_count": 15,
      "outputs": []
    },
    {
      "cell_type": "code",
      "source": [
        "x = sym.symbols('x')\n",
        "f = x**2 + 2*x + 1\n",
        "f"
      ],
      "metadata": {
        "colab": {
          "base_uri": "https://localhost:8080/",
          "height": 0
        },
        "id": "vdbnntC0XH1F",
        "outputId": "0053313c-f1c4-4912-ea31-ffd5d19adae3"
      },
      "execution_count": 16,
      "outputs": [
        {
          "output_type": "execute_result",
          "data": {
            "text/plain": [
              "x**2 + 2*x + 1"
            ],
            "text/latex": "$\\displaystyle x^{2} + 2 x + 1$"
          },
          "metadata": {},
          "execution_count": 16
        }
      ]
    },
    {
      "cell_type": "code",
      "source": [
        "[f.subs(x, i) for i in number_list]"
      ],
      "metadata": {
        "colab": {
          "base_uri": "https://localhost:8080/"
        },
        "id": "BeVhQs5fXSsD",
        "outputId": "70c0de3f-150d-4b83-8966-2f01b0024bf2"
      },
      "execution_count": 17,
      "outputs": [
        {
          "output_type": "execute_result",
          "data": {
            "text/plain": [
              "[1, 0, 36, 2.89000000000000, 47.6100000000000, 1, 26.0100000000000]"
            ]
          },
          "metadata": {},
          "execution_count": 17
        }
      ]
    },
    {
      "cell_type": "markdown",
      "source": [
        "## 3.1.2 Theory: Introduction to Limits"
      ],
      "metadata": {
        "id": "bP2pPDNHa8G-"
      }
    },
    {
      "cell_type": "markdown",
      "source": [
        "### Definition: Limit\n",
        "\n",
        "We write $\\lim_{x \\to a} f(x) = L$ if we can make $f(x)$ as close to $L$ as we like by taking $x$ as close to $a$ (on either side) but not equal to $a$. "
      ],
      "metadata": {
        "id": "JfE-N-rwbiNf"
      }
    },
    {
      "cell_type": "markdown",
      "source": [
        "### Example\n",
        "\n",
        "$$\n",
        "f(x) = x^{2}\n",
        "$$"
      ],
      "metadata": {
        "id": "vS9-IvXzcnwW"
      }
    },
    {
      "cell_type": "markdown",
      "source": [
        "$$\n",
        "\\lim_{x \\to 2} f(x) = 4\n",
        "$$"
      ],
      "metadata": {
        "id": "x9G-r__hdrZu"
      }
    },
    {
      "cell_type": "code",
      "source": [
        "f = x**2\n",
        "f"
      ],
      "metadata": {
        "colab": {
          "base_uri": "https://localhost:8080/",
          "height": 39
        },
        "id": "jP_8F5aBnVvg",
        "outputId": "23384c8f-92fc-41b6-b2eb-abc86b9b5447"
      },
      "execution_count": 18,
      "outputs": [
        {
          "output_type": "execute_result",
          "data": {
            "text/plain": [
              "x**2"
            ],
            "text/latex": "$\\displaystyle x^{2}$"
          },
          "metadata": {},
          "execution_count": 18
        }
      ]
    },
    {
      "cell_type": "code",
      "source": [
        "f.subs(x, 2), f.limit(x, 2)"
      ],
      "metadata": {
        "colab": {
          "base_uri": "https://localhost:8080/"
        },
        "id": "T3ykfvNenYrF",
        "outputId": "ab84d1ff-c784-46ac-db36-f9f6fc643480"
      },
      "execution_count": 19,
      "outputs": [
        {
          "output_type": "execute_result",
          "data": {
            "text/plain": [
              "(4, 4)"
            ]
          },
          "metadata": {},
          "execution_count": 19
        }
      ]
    },
    {
      "cell_type": "markdown",
      "source": [
        "### Example"
      ],
      "metadata": {
        "id": "sNLqCjKEetWM"
      }
    },
    {
      "cell_type": "code",
      "source": [
        "x = sym.symbols('x')\n",
        "\n",
        "f = sym.Piecewise((x**2 + 1, x > 0),\n",
        "                  (x + 1, x < 0), \n",
        "                  (3, True))"
      ],
      "metadata": {
        "id": "YNlTQ7SffIrO"
      },
      "execution_count": 20,
      "outputs": []
    },
    {
      "cell_type": "code",
      "source": [
        "print(sym.latex(f))"
      ],
      "metadata": {
        "colab": {
          "base_uri": "https://localhost:8080/"
        },
        "id": "_35TSo3Rf3Hy",
        "outputId": "b9938cb7-57d2-48c7-cc76-eadf5500c385"
      },
      "execution_count": 21,
      "outputs": [
        {
          "output_type": "stream",
          "name": "stdout",
          "text": [
            "\\begin{cases} x^{2} + 1 & \\text{for}\\: x > 0 \\\\x + 1 & \\text{for}\\: x < 0 \\\\3 & \\text{otherwise} \\end{cases}\n"
          ]
        }
      ]
    },
    {
      "cell_type": "markdown",
      "source": [
        "$$\n",
        "f(x) = \\begin{cases} x^{2} + 1 & \\text{for}\\: x > 0 \\\\x + 1 & \\text{for}\\: x < 0 \\\\3 & \\text{otherwise} \\end{cases}\n",
        "$$"
      ],
      "metadata": {
        "id": "d2pEhVxDfx5w"
      }
    },
    {
      "cell_type": "code",
      "source": [
        "sym.plot(f, xlim=[-3, 3], ylim=[-3, 3]);"
      ],
      "metadata": {
        "colab": {
          "base_uri": "https://localhost:8080/",
          "height": 297
        },
        "id": "tYiY8iC0fOiz",
        "outputId": "11b44bce-2842-44e7-f556-35c2405c2f0b"
      },
      "execution_count": 22,
      "outputs": [
        {
          "output_type": "display_data",
          "data": {
            "text/plain": [
              "<Figure size 432x288 with 1 Axes>"
            ],
            "image/png": "[encoded data removed]"
          },
          "metadata": {
            "needs_background": "light"
          }
        }
      ]
    },
    {
      "cell_type": "markdown",
      "source": [
        "$$\n",
        "f(0) = 3\n",
        "$$\n",
        "\n",
        "$$\n",
        "\\lim_{x \\to 0} f(x) = 1\n",
        "$$"
      ],
      "metadata": {
        "id": "FjjDZ8CpgQPg"
      }
    },
    {
      "cell_type": "code",
      "source": [
        "f.subs(x, 0), f.subs(x, 0.0001), f.subs(x, -0.0001)"
      ],
      "metadata": {
        "colab": {
          "base_uri": "https://localhost:8080/"
        },
        "id": "TKQQugUWiQNk",
        "outputId": "c8ee6df4-6089-4f97-8305-97bef24f62e4"
      },
      "execution_count": 23,
      "outputs": [
        {
          "output_type": "execute_result",
          "data": {
            "text/plain": [
              "(3, 1.00000001000000, 0.999900000000000)"
            ]
          },
          "metadata": {},
          "execution_count": 23
        }
      ]
    },
    {
      "cell_type": "code",
      "source": [
        "f.limit(x, 0)"
      ],
      "metadata": {
        "colab": {
          "base_uri": "https://localhost:8080/",
          "height": 37
        },
        "id": "oPaJWG0ZnkhG",
        "outputId": "09f96f46-384b-4bc9-991e-47f6724066df"
      },
      "execution_count": 24,
      "outputs": [
        {
          "output_type": "execute_result",
          "data": {
            "text/plain": [
              "1"
            ],
            "text/latex": "$\\displaystyle 1$"
          },
          "metadata": {},
          "execution_count": 24
        }
      ]
    },
    {
      "cell_type": "markdown",
      "source": [
        "We can see in the above example, that $f(a)$ need not be the same as $\\lim_{x \\to a} f(x)$. In fact, the function doesn't even need to be defined at $a$ for there to be a limit as $x \\to a$."
      ],
      "metadata": {
        "id": "p6WDNfXyjJ3x"
      }
    },
    {
      "cell_type": "code",
      "source": [],
      "metadata": {
        "id": "MrGalPZy0Ld0"
      },
      "execution_count": 24,
      "outputs": []
    },
    {
      "cell_type": "markdown",
      "source": [
        "### Example\n",
        "\n",
        "$$\n",
        "f(x) = \\frac{\\sin{x}}{x}\n",
        "$$"
      ],
      "metadata": {
        "id": "ttmTiJ2mkika"
      }
    },
    {
      "cell_type": "markdown",
      "source": [
        "$f(0)$ is undefined, but $\\lim_{x \\to 0} f(x) = 1$"
      ],
      "metadata": {
        "id": "KPH_kWg8pcqt"
      }
    },
    {
      "cell_type": "code",
      "source": [
        "f = sym.sin(x) / x\n",
        "f"
      ],
      "metadata": {
        "colab": {
          "base_uri": "https://localhost:8080/",
          "height": 0
        },
        "id": "1HzxEqwGnteI",
        "outputId": "3472396e-cd84-4ecb-e889-707c8dd1eeec"
      },
      "execution_count": 25,
      "outputs": [
        {
          "output_type": "execute_result",
          "data": {
            "text/plain": [
              "sin(x)/x"
            ],
            "text/latex": "$\\displaystyle \\frac{\\sin{\\left(x \\right)}}{x}$"
          },
          "metadata": {},
          "execution_count": 25
        }
      ]
    },
    {
      "cell_type": "code",
      "source": [
        "f.subs(x, 0), f.limit(x, 0)"
      ],
      "metadata": {
        "colab": {
          "base_uri": "https://localhost:8080/"
        },
        "id": "15FcpmqQnycX",
        "outputId": "a7b428cd-df83-4cf1-92b7-e71520e87e4a"
      },
      "execution_count": 26,
      "outputs": [
        {
          "output_type": "execute_result",
          "data": {
            "text/plain": [
              "(nan, 1)"
            ]
          },
          "metadata": {},
          "execution_count": 26
        }
      ]
    },
    {
      "cell_type": "code",
      "source": [
        "sym.plot(f);"
      ],
      "metadata": {
        "colab": {
          "base_uri": "https://localhost:8080/",
          "height": 0
        },
        "id": "2oGF8zHdn72F",
        "outputId": "4145f72f-8405-4680-c3b1-f25c56ec3f4d"
      },
      "execution_count": 27,
      "outputs": [
        {
          "output_type": "display_data",
          "data": {
            "text/plain": [
              "<Figure size 432x288 with 1 Axes>"
            ],
            "image/png": "[encoded data removed]"
          },
          "metadata": {
            "needs_background": "light"
          }
        }
      ]
    },
    {
      "cell_type": "markdown",
      "source": [
        "### Finding limits using tables\n",
        "\n",
        "$$\n",
        "f(t) = \\frac{\\sqrt{t^{2} + 9} - 3}{t^{2}}\n",
        "$$"
      ],
      "metadata": {
        "id": "A_J67TK0qIpN"
      }
    },
    {
      "cell_type": "markdown",
      "source": [
        "What is $\\lim_{t \\to 0} f(t)$?"
      ],
      "metadata": {
        "id": "uWBSEGSDqshg"
      }
    },
    {
      "cell_type": "code",
      "source": [
        "t = sym.symbols('t')\n",
        "\n",
        "f = (sym.sqrt(t**2 + 9) - 3) / t**2\n",
        "f"
      ],
      "metadata": {
        "colab": {
          "base_uri": "https://localhost:8080/",
          "height": 0
        },
        "id": "FKt0nD-Nq7B-",
        "outputId": "24613f19-6d63-4fbb-a6c9-e4f57454a567"
      },
      "execution_count": 28,
      "outputs": [
        {
          "output_type": "execute_result",
          "data": {
            "text/plain": [
              "(sqrt(t**2 + 9) - 3)/t**2"
            ],
            "text/latex": "$\\displaystyle \\frac{\\sqrt{t^{2} + 9} - 3}{t^{2}}$"
          },
          "metadata": {},
          "execution_count": 28
        }
      ]
    },
    {
      "cell_type": "code",
      "source": [
        "x1 = [(1/n) for n in range(1, 100_000, 1000)]\n",
        "y1 = [f.subs(t, a) for a in x1]"
      ],
      "metadata": {
        "id": "s0_bPOyYspLA"
      },
      "execution_count": 29,
      "outputs": []
    },
    {
      "cell_type": "code",
      "source": [
        "x2 = [(-1/n) for n in range(1, 100_000, 1000)]\n",
        "y2 = [f.subs(t, a) for a in x2]"
      ],
      "metadata": {
        "id": "jnEyifQottiy"
      },
      "execution_count": 30,
      "outputs": []
    },
    {
      "cell_type": "code",
      "source": [
        "plt.plot(x1, y1)\n",
        "plt.plot(x2, y2)\n",
        "\n",
        "plt.show()"
      ],
      "metadata": {
        "colab": {
          "base_uri": "https://localhost:8080/",
          "height": 0
        },
        "id": "wk36FYuEw_w_",
        "outputId": "768322d6-a555-4468-8195-eb02066e2e32"
      },
      "execution_count": 31,
      "outputs": [
        {
          "output_type": "display_data",
          "data": {
            "text/plain": [
              "<Figure size 432x288 with 1 Axes>"
            ],
            "image/png": "[encoded data removed]"
          },
          "metadata": {
            "needs_background": "light"
          }
        }
      ]
    },
    {
      "cell_type": "code",
      "source": [
        "f"
      ],
      "metadata": {
        "colab": {
          "base_uri": "https://localhost:8080/",
          "height": 0
        },
        "id": "-tlE_Te_v2by",
        "outputId": "bbb02b50-6160-4f51-ddf3-913fbebb967e"
      },
      "execution_count": 32,
      "outputs": [
        {
          "output_type": "execute_result",
          "data": {
            "text/plain": [
              "(sqrt(t**2 + 9) - 3)/t**2"
            ],
            "text/latex": "$\\displaystyle \\frac{\\sqrt{t^{2} + 9} - 3}{t^{2}}$"
          },
          "metadata": {},
          "execution_count": 32
        }
      ]
    },
    {
      "cell_type": "code",
      "source": [
        "f.subs(t, x1[-1]), f.subs(t, x2[-1]), f.limit(t, 0), f.limit(t, 0).evalf()"
      ],
      "metadata": {
        "colab": {
          "base_uri": "https://localhost:8080/"
        },
        "id": "wnWpHC4Fvn1g",
        "outputId": "72d34e22-0fd3-4328-9f87-473e67f41768"
      },
      "execution_count": 33,
      "outputs": [
        {
          "output_type": "execute_result",
          "data": {
            "text/plain": [
              "(0.166665646908500, 0.166665646908500, 1/6, 0.166666666666667)"
            ]
          },
          "metadata": {},
          "execution_count": 33
        }
      ]
    },
    {
      "cell_type": "code",
      "source": [
        "sym.plot(f, xlim=[-10, 10], ylim=[-.2, .2]);"
      ],
      "metadata": {
        "colab": {
          "base_uri": "https://localhost:8080/",
          "height": 0
        },
        "id": "u3KM3L6Cz6dG",
        "outputId": "73991842-b6f0-4c64-e1bf-f903b3b8753d"
      },
      "execution_count": 34,
      "outputs": [
        {
          "output_type": "display_data",
          "data": {
            "text/plain": [
              "<Figure size 432x288 with 1 Axes>"
            ],
            "image/png": "[encoded data removed]"
          },
          "metadata": {
            "needs_background": "light"
          }
        }
      ]
    },
    {
      "cell_type": "markdown",
      "source": [
        "### Example\n",
        "\n",
        "$\n",
        "f(x) = \\sin{\\frac{\\pi}{x}}\n",
        "$"
      ],
      "metadata": {
        "id": "Ef0kYzIU2KWS"
      }
    },
    {
      "cell_type": "markdown",
      "source": [
        "$\\lim_{x \\to 0} f(x)$ does not exist. "
      ],
      "metadata": {
        "id": "ZimUB1mA5iEW"
      }
    },
    {
      "cell_type": "code",
      "source": [
        "x = sym.symbols('x')\n",
        "\n",
        "f = sym.sin(sym.pi/x)\n",
        "f"
      ],
      "metadata": {
        "colab": {
          "base_uri": "https://localhost:8080/",
          "height": 0
        },
        "id": "o4wm9rEB2XW4",
        "outputId": "2f400249-4f22-4fee-b61d-aa59d883be8f"
      },
      "execution_count": 35,
      "outputs": [
        {
          "output_type": "execute_result",
          "data": {
            "text/plain": [
              "sin(pi/x)"
            ],
            "text/latex": "$\\displaystyle \\sin{\\left(\\frac{\\pi}{x} \\right)}$"
          },
          "metadata": {},
          "execution_count": 35
        }
      ]
    },
    {
      "cell_type": "code",
      "source": [
        "sym.plot(f);"
      ],
      "metadata": {
        "colab": {
          "base_uri": "https://localhost:8080/",
          "height": 0
        },
        "id": "cyo1mobd2lsD",
        "outputId": "742d4937-ac19-410c-eac8-d78f5b793f3a"
      },
      "execution_count": 36,
      "outputs": [
        {
          "output_type": "display_data",
          "data": {
            "text/plain": [
              "<Figure size 432x288 with 1 Axes>"
            ],
            "image/png": "[encoded data removed]"
          },
          "metadata": {
            "needs_background": "light"
          }
        }
      ]
    },
    {
      "cell_type": "code",
      "source": [
        "f.subs(x, 0), f.limit(x, 0)"
      ],
      "metadata": {
        "colab": {
          "base_uri": "https://localhost:8080/"
        },
        "id": "YmvnB02o3O3u",
        "outputId": "72e77be9-48c2-412e-8052-808cf92dfabc"
      },
      "execution_count": 37,
      "outputs": [
        {
          "output_type": "execute_result",
          "data": {
            "text/plain": [
              "(nan, AccumBounds(-1, 1))"
            ]
          },
          "metadata": {},
          "execution_count": 37
        }
      ]
    },
    {
      "cell_type": "code",
      "source": [
        "f.limit(x, 0, '-'), f.limit(x, 0, '+')"
      ],
      "metadata": {
        "colab": {
          "base_uri": "https://localhost:8080/"
        },
        "id": "jiR-wtSS3mOL",
        "outputId": "fc0e4b2a-a380-4ab4-cae2-cb4d05634376"
      },
      "execution_count": 38,
      "outputs": [
        {
          "output_type": "execute_result",
          "data": {
            "text/plain": [
              "(AccumBounds(-1, 1), AccumBounds(-1, 1))"
            ]
          },
          "metadata": {},
          "execution_count": 38
        }
      ]
    },
    {
      "cell_type": "markdown",
      "source": [
        "### Example: A constant function\n",
        "\n",
        "$f(x) = 5$"
      ],
      "metadata": {
        "id": "mypg4xe46C-I"
      }
    },
    {
      "cell_type": "markdown",
      "source": [
        "$\n",
        "\\lim_{x \\to 0} f(x) = 5\n",
        "$"
      ],
      "metadata": {
        "id": "wpeiQFYJ63EN"
      }
    },
    {
      "cell_type": "markdown",
      "source": [
        "### Example"
      ],
      "metadata": {
        "id": "3gk7v9Qc7X10"
      }
    },
    {
      "cell_type": "markdown",
      "source": [
        "$\n",
        "\\begin{align}\n",
        "\\lim_{x \\to 4} \\left(x^{2} - 4\\right) \n",
        "&= 4^2 - 4 \\\\\n",
        "&= 16 - 4 \\\\\n",
        "&= 12\n",
        "\\end{align}\n",
        "$"
      ],
      "metadata": {
        "id": "MVl0-alZ7vZi"
      }
    },
    {
      "cell_type": "code",
      "source": [
        "x = sym.symbols('x')\n",
        "\n",
        "f = x**2 - 4\n",
        "f"
      ],
      "metadata": {
        "colab": {
          "base_uri": "https://localhost:8080/",
          "height": 0
        },
        "id": "TBgYBP__8C-9",
        "outputId": "39f4d34c-3f5d-4cd4-b836-e90ea22b4d09"
      },
      "execution_count": 39,
      "outputs": [
        {
          "output_type": "execute_result",
          "data": {
            "text/plain": [
              "x**2 - 4"
            ],
            "text/latex": "$\\displaystyle x^{2} - 4$"
          },
          "metadata": {},
          "execution_count": 39
        }
      ]
    },
    {
      "cell_type": "code",
      "source": [
        "f.limit(x, 4)"
      ],
      "metadata": {
        "colab": {
          "base_uri": "https://localhost:8080/",
          "height": 0
        },
        "id": "1ZNZGd518LIt",
        "outputId": "13c94c40-0eed-43b3-a8ee-01cd84c7319e"
      },
      "execution_count": 40,
      "outputs": [
        {
          "output_type": "execute_result",
          "data": {
            "text/plain": [
              "12"
            ],
            "text/latex": "$\\displaystyle 12$"
          },
          "metadata": {},
          "execution_count": 40
        }
      ]
    },
    {
      "cell_type": "markdown",
      "source": [
        "## 3.1.3 Reading: Limits and Rates of Change"
      ],
      "metadata": {
        "id": "24B3vntq9GAS"
      }
    },
    {
      "cell_type": "markdown",
      "source": [
        "### Limits"
      ],
      "metadata": {
        "id": "F3TB7de0yBhT"
      }
    },
    {
      "cell_type": "markdown",
      "source": [
        "#### Intuitive definition of the limit\n",
        "\n",
        "Suppose a function $f(x)$ is defined on some open interval containing the point $a$. The **limit** of $f$ as $x$ approaches $a$ is about the behaviour of the function values $f(x)$ as $x$ gets closer to $a$. \n",
        "\n",
        "There are two possible directions to approach $a$ alnong the x-axis, so there are two different ***one-sided limits***. If on both sides, the function values $f(x)$ approach the same number $L$, then we write\n",
        "\n",
        "$$\n",
        "\\lim_{x \\to a} f(x) = L\n",
        "$$\n",
        "\n",
        "which is read, \"the limit of $f(x)$, as $x$ approaches $a$, equals $L$.\" This means that as $x$ gets closer to $a$ from either direction, the vlues of $f(x)$ get closer and closer to $L$. \n",
        "\n",
        "Note that the limit depends only on the behaviour *close* to $a$, not at $a$. $f(a)$ need not be defined for the $\\lim_{a \\to a} f(x)$ to exist, andm the limit need not equal $f(a)$. "
      ],
      "metadata": {
        "id": "dWmrbkiIyD3C"
      }
    },
    {
      "cell_type": "markdown",
      "source": [
        "#### Limits and infinity\n",
        "\n",
        "If a function's values become very large positive numbers as $x$ gets close to $a$, then we say, $\\lim_{x \\to a} = \\infty$. \n",
        "\n",
        "Similary, if a function's values become very large negative numbers as $x$ gets close to $a$, then we say $\\lim_{x \\to a} f(x) = -\\infty$. \n",
        "\n",
        "For example, $\\lim_{x \\to 0} \\ln{x} = -\\infty$"
      ],
      "metadata": {
        "id": "QnB5vlK_0TAa"
      }
    },
    {
      "cell_type": "code",
      "source": [
        "sym.plot(sym.ln(x));"
      ],
      "metadata": {
        "colab": {
          "base_uri": "https://localhost:8080/",
          "height": 297
        },
        "id": "UUyW_9ff2DK5",
        "outputId": "66def546-364f-43af-ba63-8e8c6bd696db"
      },
      "execution_count": 41,
      "outputs": [
        {
          "output_type": "display_data",
          "data": {
            "text/plain": [
              "<Figure size 432x288 with 1 Axes>"
            ],
            "image/png": "[encoded data removed]"
          },
          "metadata": {
            "needs_background": "light"
          }
        }
      ]
    },
    {
      "cell_type": "markdown",
      "source": [
        "Similarly, we can examine the limits of a function $f(x)$ at $\\infty$ or $-\\infty$, that is, as $x$ becomes a very large positive number or a very large negative number. \n",
        "\n",
        "For example, $\\lim_{x \\to -\\infty} e^{x} = 0$. "
      ],
      "metadata": {
        "id": "SIiH9BHZ2Vsg"
      }
    },
    {
      "cell_type": "code",
      "source": [
        "sym.plot(sym.exp(x));"
      ],
      "metadata": {
        "colab": {
          "base_uri": "https://localhost:8080/",
          "height": 296
        },
        "id": "yHUAmbAg23lR",
        "outputId": "802c6c5b-9b06-4794-ba69-a1297f0a2c69"
      },
      "execution_count": 42,
      "outputs": [
        {
          "output_type": "display_data",
          "data": {
            "text/plain": [
              "<Figure size 432x288 with 1 Axes>"
            ],
            "image/png": "[encoded data removed]"
          },
          "metadata": {
            "needs_background": "light"
          }
        }
      ]
    },
    {
      "cell_type": "markdown",
      "source": [
        "Remember that $\\infty$ and $-\\infty$ are **not numbers**. They are just a way for us to discuss a function's behaviour. "
      ],
      "metadata": {
        "id": "yA8PlpdS3DBb"
      }
    },
    {
      "cell_type": "markdown",
      "source": [
        "#### Rates of Change\n",
        "\n",
        "The **average rate of change** of the function $f(x)$ on the interval $x = a$ to $x = b$ is:\n",
        "\n",
        "$$\n",
        "\\frac{\\Delta{f}}{\\Delta{x}} = \\frac{f(b) - f(a)}{b - a}\n",
        "$$\n",
        "\n",
        "The **instantaneous rate of change** of the function $f(x)$ at $x = c$ is the limit of the average rates of change of $f$ over shorter and shorter intervals containing $c$. \n",
        "\n",
        "The instantaneous rate of change of $f$ at $x = c$ is also called the **derivative** which is denoted by $f'(c)$."
      ],
      "metadata": {
        "id": "HiCcu2G_4z9H"
      }
    },
    {
      "cell_type": "markdown",
      "source": [
        "#### Limit definition of the derivative\n",
        "\n",
        "$$\n",
        "f'(c) = \\lim_{h \\to 0} \\frac{f(c + h) - f(c)}{h}\n",
        "$$"
      ],
      "metadata": {
        "id": "IwMhTW3I6c2q"
      }
    },
    {
      "cell_type": "markdown",
      "source": [
        "$[c, c + h]$ is an interval containing $c$. "
      ],
      "metadata": {
        "id": "zlAiWki87alz"
      }
    },
    {
      "cell_type": "markdown",
      "source": [
        "$$\n",
        "\\frac{f(c + h) - f(c)}{(c + h) - c} =\n",
        "\\frac{f(c + h) - f(c)}{h}\n",
        "$$\n",
        "\n",
        "As $h$ goes to $0$, the interval gets shorter and shorter. "
      ],
      "metadata": {
        "id": "YlOqVNAT7tNJ"
      }
    },
    {
      "cell_type": "markdown",
      "source": [
        "#### Visualizing rates of change\n",
        "\n",
        "The average rate of change from $x = a$ to $x = b$ is the slope of the line between the two points, $(a, f(a))$ and $(b, f(b))$. Such a line, intersecting the graph of a function at two points, is called a **secant line**. \n",
        "\n",
        "Consider the point $P(c, f(c))$ on the graph of $f$. For some positive value of $h$, let $Q(c + h, f(c + h))$ be another point on the graph. Then draw the secant line between $P$ and $Q$. \n",
        "\n",
        "As $h$ gets smaller and smaller, the point $Q$ gets closer and closer to the point $P$ and the secant line between $P$ and $Q$ gets closer and closer to the **tangent line to the graph of** $f$ **at** $P$. This is the line that touches the graph of $f$ at the point $P$, and has the same slope as the graph of $f$ at that point. \n",
        "\n",
        "<img src='https://drive.google.com/uc?export=view&id=113UoUGufJ7vFkyaYA7y46HcggT-hl607'> "
      ],
      "metadata": {
        "id": "T4uVvVyQ9Ylt"
      }
    },
    {
      "cell_type": "markdown",
      "source": [
        "#### Summary\n",
        "\n",
        "The **average rate of change** over an interval is equal to the slope of the secant line between the two points.\n",
        "\n",
        "The **instantaneous rate of change** at a value is equal to the slope of the tangent line at a point. "
      ],
      "metadata": {
        "id": "EJ79dzZXEcaf"
      }
    },
    {
      "cell_type": "markdown",
      "source": [
        "## 3.1.4 Theory: Limits Involving Infinity"
      ],
      "metadata": {
        "id": "LgKiJoFME7s-"
      }
    },
    {
      "cell_type": "markdown",
      "source": [
        "### Example\n",
        "\n",
        "$f(x) = \\frac{1}{x^{2}}$"
      ],
      "metadata": {
        "id": "2nKqlBHyPECF"
      }
    },
    {
      "cell_type": "code",
      "source": [
        "x = sym.symbols('x')\n",
        "f = 1 / x**2\n",
        "f"
      ],
      "metadata": {
        "colab": {
          "base_uri": "https://localhost:8080/",
          "height": 51
        },
        "id": "2wHDixZ6O_yC",
        "outputId": "14ecf1b2-c410-405b-b451-20d09b9b5e66"
      },
      "execution_count": 43,
      "outputs": [
        {
          "output_type": "execute_result",
          "data": {
            "text/plain": [
              "x**(-2)"
            ],
            "text/latex": "$\\displaystyle \\frac{1}{x^{2}}$"
          },
          "metadata": {},
          "execution_count": 43
        }
      ]
    },
    {
      "cell_type": "code",
      "source": [
        "sym.plot(f, xlim=[-6, 6], ylim=[-1, 6]);"
      ],
      "metadata": {
        "colab": {
          "base_uri": "https://localhost:8080/",
          "height": 297
        },
        "id": "f1r6eO5lPQJU",
        "outputId": "8882d5d3-ab63-46e7-a03d-d8c6b761d381"
      },
      "execution_count": 44,
      "outputs": [
        {
          "output_type": "display_data",
          "data": {
            "text/plain": [
              "<Figure size 432x288 with 1 Axes>"
            ],
            "image/png": "[encoded data removed]"
          },
          "metadata": {
            "needs_background": "light"
          }
        }
      ]
    },
    {
      "cell_type": "code",
      "source": [
        "# dir='+' is the default\n",
        "(f.limit(x, sym.oo),\n",
        " f.limit(x, -sym.oo))"
      ],
      "metadata": {
        "colab": {
          "base_uri": "https://localhost:8080/"
        },
        "id": "1dbXYTykYTSp",
        "outputId": "dec5db58-498a-4a1e-fada-858a47b9a28d"
      },
      "execution_count": 45,
      "outputs": [
        {
          "output_type": "execute_result",
          "data": {
            "text/plain": [
              "(0, 0)"
            ]
          },
          "metadata": {},
          "execution_count": 45
        }
      ]
    },
    {
      "cell_type": "markdown",
      "source": [
        "$\n",
        "\\lim_{x \\to \\infty} \\frac{1}{x^{2}} = 0\n",
        "$"
      ],
      "metadata": {
        "id": "OCxgSrR_WqUA"
      }
    },
    {
      "cell_type": "markdown",
      "source": [
        "$\n",
        "\\lim_{x \\to -\\infty} \\frac{1}{x^{2}} = 0\n",
        "$"
      ],
      "metadata": {
        "id": "T9chtneSW3P3"
      }
    },
    {
      "cell_type": "code",
      "source": [
        "(f.limit(x, 0, dir='-'),\n",
        " f.limit(x, 0, dir='+'),\n",
        " f.limit(x, 0, dir='-'),\n",
        " f.limit(x, 0, dir='+'))"
      ],
      "metadata": {
        "colab": {
          "base_uri": "https://localhost:8080/"
        },
        "id": "24EWqyvXcYhH",
        "outputId": "93b2fe05-d460-43d8-9c46-2eb89ab62c7b"
      },
      "execution_count": 46,
      "outputs": [
        {
          "output_type": "execute_result",
          "data": {
            "text/plain": [
              "(oo, oo, oo, oo)"
            ]
          },
          "metadata": {},
          "execution_count": 46
        }
      ]
    },
    {
      "cell_type": "markdown",
      "source": [
        "$\n",
        "\\lim_{x \\to 0+} \\frac{1}{x^{2}} = \\infty\n",
        "$\n",
        "\n",
        "$\n",
        "\\lim_{x \\to 0-} \\frac{1}{x^{2}} = \\infty\n",
        "$\n",
        "\n",
        "The limit from the right is equal to the limit from the left.\n",
        "\n",
        "$\\therefore$\n",
        "\n",
        "$\n",
        "\\lim_{x \\to 0} \\frac{1}{x^{2}} = \\infty\n",
        "$\n",
        "\n",
        "**NOTE:** When we say the limit is \"equal to\" infinity, we are really saying that the limit does not exist. It is a special case of **DNE**, and it is more informative. "
      ],
      "metadata": {
        "id": "rNt-QjKuchW2"
      }
    },
    {
      "cell_type": "markdown",
      "source": [
        "### Vertical Asymptotes"
      ],
      "metadata": {
        "id": "Q2X1259JfMU9"
      }
    },
    {
      "cell_type": "markdown",
      "source": [
        "#### Definition\n",
        "\n",
        "The line $x = a$ is a **vertical asymptote** of $y = f(x)$ if at least one of the following is true.\n",
        "\n",
        "1. $\\lim_{x \\to a} f(x) = \\pm\\infty$\n",
        "2. $\\lim_{x \\to a+} f(x) = \\pm\\infty$\n",
        "3. $\\lim_{x \\to a-} f(x) = \\pm\\infty$"
      ],
      "metadata": {
        "id": "-BYJgkSYguMi"
      }
    },
    {
      "cell_type": "markdown",
      "source": [
        "#### Examples"
      ],
      "metadata": {
        "id": "ucomT1_7iJBv"
      }
    },
    {
      "cell_type": "code",
      "source": [
        "x = sym.symbols('x')\n",
        "f = 1 / x**2\n",
        "\n",
        "sym.plot(f, \n",
        "         xlim=[-6, 6], \n",
        "         ylim=[-1, 6],\n",
        "         title='Has vertical asymptote $x = 0$\\n');"
      ],
      "metadata": {
        "colab": {
          "base_uri": "https://localhost:8080/",
          "height": 297
        },
        "id": "br_plyHciNvq",
        "outputId": "9c92cea0-f069-44cb-9e5a-38d904e98426"
      },
      "execution_count": 47,
      "outputs": [
        {
          "output_type": "display_data",
          "data": {
            "text/plain": [
              "<Figure size 432x288 with 1 Axes>"
            ],
            "image/png": "[encoded data removed]"
          },
          "metadata": {
            "needs_background": "light"
          }
        }
      ]
    },
    {
      "cell_type": "code",
      "source": [
        "x = sym.symbols('x')\n",
        "f = sym.exp(x)\n",
        "\n",
        "sym.plot(f, \n",
        "         xlim=[-5, 5], \n",
        "         ylim=[-5, 5],\n",
        "         title='Has horizontal asymptote $y = 0$\\n');"
      ],
      "metadata": {
        "colab": {
          "base_uri": "https://localhost:8080/",
          "height": 297
        },
        "id": "3oL4MJ_tjBsU",
        "outputId": "7b5b332f-314c-4281-f3e1-cbe853f2d635"
      },
      "execution_count": 48,
      "outputs": [
        {
          "output_type": "display_data",
          "data": {
            "text/plain": [
              "<Figure size 432x288 with 1 Axes>"
            ],
            "image/png": "[encoded data removed]"
          },
          "metadata": {
            "needs_background": "light"
          }
        }
      ]
    },
    {
      "cell_type": "code",
      "source": [
        "# this is the inverse of the the previous example\n",
        "x = sym.symbols('x')\n",
        "f = sym.ln(x)\n",
        "\n",
        "sym.plot(f, \n",
        "         xlim=[-5, 5],\n",
        "         ylim=[-5, 5],\n",
        "         title='Has vertical asymptote $x = 0$\\n');"
      ],
      "metadata": {
        "colab": {
          "base_uri": "https://localhost:8080/",
          "height": 297
        },
        "id": "-t1RNsIAj1Tx",
        "outputId": "8d79184a-4fc4-4742-c982-355d9a5dab3b"
      },
      "execution_count": 49,
      "outputs": [
        {
          "output_type": "display_data",
          "data": {
            "text/plain": [
              "<Figure size 432x288 with 1 Axes>"
            ],
            "image/png": "[encoded data removed]"
          },
          "metadata": {
            "needs_background": "light"
          }
        }
      ]
    },
    {
      "cell_type": "code",
      "source": [
        "# because of the domain restriction\n",
        "#  the 2-sided limit does not exist\n",
        "# but we have a 1-sided limit from the right\n",
        "f.limit(x, 0, '+')"
      ],
      "metadata": {
        "colab": {
          "base_uri": "https://localhost:8080/",
          "height": 37
        },
        "id": "qv-iRRalkpLu",
        "outputId": "5bb93b45-a30c-4e03-fe9b-f93cd1ac2719"
      },
      "execution_count": 50,
      "outputs": [
        {
          "output_type": "execute_result",
          "data": {
            "text/plain": [
              "-oo"
            ],
            "text/latex": "$\\displaystyle -\\infty$"
          },
          "metadata": {},
          "execution_count": 50
        }
      ]
    },
    {
      "cell_type": "code",
      "source": [
        "x = sym.symbols('x')\n",
        "f = sym.tan(x)\n",
        "\n",
        "sym.plot(f,\n",
        "         xlim=[-3*sym.pi, 3*sym.pi], \n",
        "         ylim=[-10, 10],\n",
        "         title='Infinitely many vertical asymptotes\\n');"
      ],
      "metadata": {
        "colab": {
          "base_uri": "https://localhost:8080/",
          "height": 297
        },
        "id": "Lk-ZOQ_UnEuB",
        "outputId": "3fa6d8ce-30bd-42ed-926b-f3ab76c7b313"
      },
      "execution_count": 51,
      "outputs": [
        {
          "output_type": "display_data",
          "data": {
            "text/plain": [
              "<Figure size 432x288 with 1 Axes>"
            ],
            "image/png": "[encoded data removed]"
          },
          "metadata": {
            "needs_background": "light"
          }
        }
      ]
    },
    {
      "cell_type": "code",
      "source": [
        "(sym.limit(f, x, sym.pi/2, '-'),\n",
        " sym.limit(f, x, sym.pi/2, '+'))"
      ],
      "metadata": {
        "colab": {
          "base_uri": "https://localhost:8080/"
        },
        "id": "pnYXkM4an5VE",
        "outputId": "6b5d1df0-d293-475a-dfbf-48ccc388cd05"
      },
      "execution_count": 52,
      "outputs": [
        {
          "output_type": "execute_result",
          "data": {
            "text/plain": [
              "(oo, -oo)"
            ]
          },
          "metadata": {},
          "execution_count": 52
        }
      ]
    },
    {
      "cell_type": "markdown",
      "source": [
        "$\n",
        "\\lim_{x \\to \\frac{\\pi}{2}^{-}} \\tan{x} = \\infty\n",
        "$\n",
        "\n",
        "$\n",
        "\\lim_{x \\to \\frac{\\pi}{2}^{+}} \\tan{x} = -\\infty\n",
        "$\n",
        "\n",
        "The 2-sided limit does not exist."
      ],
      "metadata": {
        "id": "WuMqWjoTo-Ce"
      }
    },
    {
      "cell_type": "code",
      "source": [
        "x = sym.symbols('x')\n",
        "f = sym.ln(sym.ln(x))\n",
        "f"
      ],
      "metadata": {
        "colab": {
          "base_uri": "https://localhost:8080/",
          "height": 39
        },
        "id": "qNYwnyi8rYTr",
        "outputId": "1150ab4b-d11d-4b67-fa63-4273f7e2ad8e"
      },
      "execution_count": 53,
      "outputs": [
        {
          "output_type": "execute_result",
          "data": {
            "text/plain": [
              "log(log(x))"
            ],
            "text/latex": "$\\displaystyle \\log{\\left(\\log{\\left(x \\right)} \\right)}$"
          },
          "metadata": {},
          "execution_count": 53
        }
      ]
    },
    {
      "cell_type": "code",
      "source": [
        "sym.plot(f, \n",
        "         xlim=[-10, 10], \n",
        "         ylim=[-10, 10]);"
      ],
      "metadata": {
        "colab": {
          "base_uri": "https://localhost:8080/",
          "height": 297
        },
        "id": "FoYzgfJlryVY",
        "outputId": "b7bfe993-f60f-44ec-ae2e-4c3c8f998a8f"
      },
      "execution_count": 54,
      "outputs": [
        {
          "output_type": "display_data",
          "data": {
            "text/plain": [
              "<Figure size 432x288 with 1 Axes>"
            ],
            "image/png": "[encoded data removed]"
          },
          "metadata": {
            "needs_background": "light"
          }
        }
      ]
    },
    {
      "cell_type": "code",
      "source": [
        "f.limit(x, 1, '+')"
      ],
      "metadata": {
        "colab": {
          "base_uri": "https://localhost:8080/",
          "height": 37
        },
        "id": "SRlbXBBxsGMs",
        "outputId": "c70a7ffa-a5e0-416f-8277-a853b4ad85f4"
      },
      "execution_count": 55,
      "outputs": [
        {
          "output_type": "execute_result",
          "data": {
            "text/plain": [
              "-oo"
            ],
            "text/latex": "$\\displaystyle -\\infty$"
          },
          "metadata": {},
          "execution_count": 55
        }
      ]
    },
    {
      "cell_type": "markdown",
      "source": [
        "$\n",
        "\\lim_{x \\to 1^{+}} \\ln{\\left(\\ln{x}\\right)} = -\\infty\n",
        "$"
      ],
      "metadata": {
        "id": "2aK7_Rr_slEd"
      }
    },
    {
      "cell_type": "markdown",
      "source": [
        "Recall that $\\ln{1} = 0$, which gives us another way to look at this problem:"
      ],
      "metadata": {
        "id": "dtj4GbPJuI7c"
      }
    },
    {
      "cell_type": "markdown",
      "source": [
        "$\n",
        "\\lim_{x \\to 0^{+}} \\ln{x} \n",
        "$"
      ],
      "metadata": {
        "id": "yjrGffn3uXxt"
      }
    },
    {
      "cell_type": "code",
      "source": [
        "sym.plot(sym.ln(x));"
      ],
      "metadata": {
        "colab": {
          "base_uri": "https://localhost:8080/",
          "height": 297
        },
        "id": "l-4fqomdvisR",
        "outputId": "09975c03-69ae-4be4-cfa4-dec04fae3ca9"
      },
      "execution_count": 56,
      "outputs": [
        {
          "output_type": "display_data",
          "data": {
            "text/plain": [
              "<Figure size 432x288 with 1 Axes>"
            ],
            "image/png": "[encoded data removed]"
          },
          "metadata": {
            "needs_background": "light"
          }
        }
      ]
    },
    {
      "cell_type": "code",
      "source": [
        "sym.limit(sym.ln(x), x, 0, '+')"
      ],
      "metadata": {
        "colab": {
          "base_uri": "https://localhost:8080/",
          "height": 37
        },
        "id": "vsMtJNbzvqq8",
        "outputId": "5b83e357-1d2e-4273-b827-03b9daa4abd7"
      },
      "execution_count": 57,
      "outputs": [
        {
          "output_type": "execute_result",
          "data": {
            "text/plain": [
              "-oo"
            ],
            "text/latex": "$\\displaystyle -\\infty$"
          },
          "metadata": {},
          "execution_count": 57
        }
      ]
    },
    {
      "cell_type": "markdown",
      "source": [
        "### Limits at infinity: $x \\to \\infty$\n",
        "\n",
        "Can a function \"touch\" it's horizontal asymptote?\n",
        "\n",
        "Yes, it may not touch the asymptote as $x \\to \\infty$ but it can touch it somewhere else.\n",
        "\n",
        "Also, an oscillating function can touch it's aymptote an infinite number of times as $x \\to \\infty$. "
      ],
      "metadata": {
        "id": "MgRtFIqLwhO9"
      }
    },
    {
      "cell_type": "markdown",
      "source": [
        "## 3.1.5 Theory: One-Sided Limits"
      ],
      "metadata": {
        "id": "rcvugnlk0Y2i"
      }
    },
    {
      "cell_type": "markdown",
      "source": [
        "### Example\n",
        "\n",
        "$\n",
        "f(x) = \\sqrt{x}\n",
        "$\n",
        "\n",
        "$\n",
        "\\lim_{x \\to 0^{+}} = 0\n",
        "$"
      ],
      "metadata": {
        "id": "IY1wwFWWEQre"
      }
    },
    {
      "cell_type": "code",
      "source": [
        "x = sym.symbols('x')\n",
        "\n",
        "f = sym.sqrt(x)\n",
        "f"
      ],
      "metadata": {
        "colab": {
          "base_uri": "https://localhost:8080/",
          "height": 37
        },
        "id": "pJ_S2XKBEfs3",
        "outputId": "abe0563d-c6f7-4df5-e6cd-0cf85aa7731a"
      },
      "execution_count": 58,
      "outputs": [
        {
          "output_type": "execute_result",
          "data": {
            "text/plain": [
              "sqrt(x)"
            ],
            "text/latex": "$\\displaystyle \\sqrt{x}$"
          },
          "metadata": {},
          "execution_count": 58
        }
      ]
    },
    {
      "cell_type": "code",
      "source": [
        "sym.plot(f);"
      ],
      "metadata": {
        "colab": {
          "base_uri": "https://localhost:8080/",
          "height": 297
        },
        "id": "PhEEk-a6Ehso",
        "outputId": "d72db2dc-44bb-4b8e-8995-7642d77a527c"
      },
      "execution_count": 59,
      "outputs": [
        {
          "output_type": "display_data",
          "data": {
            "text/plain": [
              "<Figure size 432x288 with 1 Axes>"
            ],
            "image/png": "[encoded data removed]"
          },
          "metadata": {
            "needs_background": "light"
          }
        }
      ]
    },
    {
      "cell_type": "code",
      "source": [
        "f.limit(x, 0, '+')"
      ],
      "metadata": {
        "colab": {
          "base_uri": "https://localhost:8080/",
          "height": 37
        },
        "id": "hmvcP8yfFCGB",
        "outputId": "c526c6f4-0348-4eee-8a6d-44dc3bbabfb1"
      },
      "execution_count": 60,
      "outputs": [
        {
          "output_type": "execute_result",
          "data": {
            "text/plain": [
              "0"
            ],
            "text/latex": "$\\displaystyle 0$"
          },
          "metadata": {},
          "execution_count": 60
        }
      ]
    },
    {
      "cell_type": "markdown",
      "source": [
        "### Requirement for two-sided limits\n",
        "\n",
        "For $\\lim_{x \\to a} f(x)$ to exist, it must be the same value, $L$, if you approach from the left or the right."
      ],
      "metadata": {
        "id": "fyNcSVVMFitx"
      }
    },
    {
      "cell_type": "markdown",
      "source": [
        "$$\n",
        "\\lim_{x \\to a} f(x) = L \\iff \\lim_{x \\to a^{+}} f(x) = \\lim_{x \\to a^{-}} f(x) = L\n",
        "$$"
      ],
      "metadata": {
        "id": "Ji7rIBtKHcBZ"
      }
    },
    {
      "cell_type": "markdown",
      "source": [
        "#### Example\n",
        "\n",
        "$\n",
        "f(x) = \\frac{\\left|x\\right|}{x}\n",
        "$"
      ],
      "metadata": {
        "id": "1YnRwKDjKlWk"
      }
    },
    {
      "cell_type": "code",
      "source": [
        "x = sym.symbols('x')\n",
        "\n",
        "f = sym.Abs(x) / x\n",
        "f"
      ],
      "metadata": {
        "colab": {
          "base_uri": "https://localhost:8080/",
          "height": 53
        },
        "id": "OFtFGpzgK6JH",
        "outputId": "a224fdad-7fd5-4c3d-a77e-bc38014c9e73"
      },
      "execution_count": 61,
      "outputs": [
        {
          "output_type": "execute_result",
          "data": {
            "text/plain": [
              "Abs(x)/x"
            ],
            "text/latex": "$\\displaystyle \\frac{\\left|{x}\\right|}{x}$"
          },
          "metadata": {},
          "execution_count": 61
        }
      ]
    },
    {
      "cell_type": "code",
      "source": [
        "sym.plot(f, \n",
        "         xlim=[-3, 3], \n",
        "         ylim=[-3, 3],\n",
        "         title = '$f(x) = ' + sym.latex(f) + '$\\n');"
      ],
      "metadata": {
        "colab": {
          "base_uri": "https://localhost:8080/",
          "height": 297
        },
        "id": "6oQdmL3tLCjk",
        "outputId": "d4dac371-2f1b-440d-d060-56175aa55cb6"
      },
      "execution_count": 62,
      "outputs": [
        {
          "output_type": "display_data",
          "data": {
            "text/plain": [
              "<Figure size 432x288 with 1 Axes>"
            ],
            "image/png": "[encoded data removed]"
          },
          "metadata": {
            "needs_background": "light"
          }
        }
      ]
    },
    {
      "cell_type": "code",
      "source": [
        "f.limit(x, 0, '-'), f.limit(x, 0, '+')"
      ],
      "metadata": {
        "colab": {
          "base_uri": "https://localhost:8080/"
        },
        "id": "FKlImMS-LiX7",
        "outputId": "68358620-a590-4a48-a65e-40966361b076"
      },
      "execution_count": 63,
      "outputs": [
        {
          "output_type": "execute_result",
          "data": {
            "text/plain": [
              "(-1, 1)"
            ]
          },
          "metadata": {},
          "execution_count": 63
        }
      ]
    },
    {
      "cell_type": "markdown",
      "source": [
        "$\\lim_{x \\to 0^{-}} \\frac{\\left|x\\right|}{x} = -1$ and $\\lim_{x \\to 0^{+}} \\frac{\\left|x\\right|}{x} = 1$\n",
        "\n",
        "<br>\n",
        "\n",
        "$\\lim_{x \\to 0} \\frac{\\left|x\\right|}{x}$ does not exist."
      ],
      "metadata": {
        "id": "uq7w44GpLyBy"
      }
    },
    {
      "cell_type": "code",
      "source": [
        "the_domain = sym.calculus.util.continuous_domain(f, x, sym.S.Reals)\n",
        "the_domain"
      ],
      "metadata": {
        "colab": {
          "base_uri": "https://localhost:8080/",
          "height": 37
        },
        "id": "ifMHc1_3NVMU",
        "outputId": "3b34ceb6-faac-4ae8-df6a-30bc33dfbe2c"
      },
      "execution_count": 64,
      "outputs": [
        {
          "output_type": "execute_result",
          "data": {
            "text/plain": [
              "Union(Interval.open(-oo, 0), Interval.open(0, oo))"
            ],
            "text/latex": "$\\displaystyle \\left(-\\infty, 0\\right) \\cup \\left(0, \\infty\\right)$"
          },
          "metadata": {},
          "execution_count": 64
        }
      ]
    },
    {
      "cell_type": "markdown",
      "source": [
        "## 3.1.6 Examples to Find Limits"
      ],
      "metadata": {
        "id": "cwh-7IdbUBuX"
      }
    }
  ]
}